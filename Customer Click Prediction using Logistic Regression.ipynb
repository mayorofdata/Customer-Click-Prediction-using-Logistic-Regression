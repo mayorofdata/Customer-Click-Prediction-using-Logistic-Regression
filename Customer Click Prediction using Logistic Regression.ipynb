{
 "cells": [
  {
   "cell_type": "markdown",
   "metadata": {},
   "source": [
    "# Problem Statement\n",
    "\n",
    "The aim of this task is to anaylze customer behaviour by predicting which customer clicks on the advertisement. Customer data is as follows:\n",
    "\n",
    "Inputs:\n",
    "- Name\n",
    "- e-mail\n",
    "- Country\n",
    "- Time on Facebook\n",
    "- Estimated Salary (derived from other parameters)\n",
    "\n",
    "Outputs:\n",
    "- Clicks(1: customer clicked on Ad, 0: Cusstomer did not click on the Ad)\n"
   ]
  },
  {
   "cell_type": "markdown",
   "metadata": {},
   "source": [
    "# Step #1: Import Libraries and datasets"
   ]
  },
  {
   "cell_type": "code",
   "execution_count": 25,
   "metadata": {},
   "outputs": [],
   "source": [
    "import pandas as pd\n",
    "import numpy as np\n",
    "import matplotlib.pyplot as plt\n",
    "import seaborn as sns"
   ]
  },
  {
   "cell_type": "code",
   "execution_count": 26,
   "metadata": {},
   "outputs": [],
   "source": [
    "# read the data using pandas dataframe\n",
    "training_set = pd.read_csv(\"Facebook_Ad.csv\", encoding=\"ISO-8859-1\")"
   ]
  },
  {
   "cell_type": "code",
   "execution_count": 27,
   "metadata": {},
   "outputs": [
    {
     "data": {
      "text/html": [
       "<div>\n",
       "<style scoped>\n",
       "    .dataframe tbody tr th:only-of-type {\n",
       "        vertical-align: middle;\n",
       "    }\n",
       "\n",
       "    .dataframe tbody tr th {\n",
       "        vertical-align: top;\n",
       "    }\n",
       "\n",
       "    .dataframe thead th {\n",
       "        text-align: right;\n",
       "    }\n",
       "</style>\n",
       "<table border=\"1\" class=\"dataframe\">\n",
       "  <thead>\n",
       "    <tr style=\"text-align: right;\">\n",
       "      <th></th>\n",
       "      <th>Names</th>\n",
       "      <th>emails</th>\n",
       "      <th>Country</th>\n",
       "      <th>Time Spent on Site</th>\n",
       "      <th>Salary</th>\n",
       "      <th>Clicked</th>\n",
       "    </tr>\n",
       "  </thead>\n",
       "  <tbody>\n",
       "    <tr>\n",
       "      <th>0</th>\n",
       "      <td>Martina Avila</td>\n",
       "      <td>cubilia.Curae.Phasellus@quisaccumsanconvallis.edu</td>\n",
       "      <td>Bulgaria</td>\n",
       "      <td>25.649648</td>\n",
       "      <td>55330.06006</td>\n",
       "      <td>0</td>\n",
       "    </tr>\n",
       "    <tr>\n",
       "      <th>1</th>\n",
       "      <td>Harlan Barnes</td>\n",
       "      <td>eu.dolor@diam.co.uk</td>\n",
       "      <td>Belize</td>\n",
       "      <td>32.456107</td>\n",
       "      <td>79049.07674</td>\n",
       "      <td>1</td>\n",
       "    </tr>\n",
       "    <tr>\n",
       "      <th>2</th>\n",
       "      <td>Naomi Rodriquez</td>\n",
       "      <td>vulputate.mauris.sagittis@ametconsectetueradip...</td>\n",
       "      <td>Algeria</td>\n",
       "      <td>20.945978</td>\n",
       "      <td>41098.60826</td>\n",
       "      <td>0</td>\n",
       "    </tr>\n",
       "    <tr>\n",
       "      <th>3</th>\n",
       "      <td>Jade Cunningham</td>\n",
       "      <td>malesuada@dignissim.com</td>\n",
       "      <td>Cook Islands</td>\n",
       "      <td>54.039325</td>\n",
       "      <td>37143.35536</td>\n",
       "      <td>1</td>\n",
       "    </tr>\n",
       "    <tr>\n",
       "      <th>4</th>\n",
       "      <td>Cedric Leach</td>\n",
       "      <td>felis.ullamcorper.viverra@egetmollislectus.net</td>\n",
       "      <td>Brazil</td>\n",
       "      <td>34.249729</td>\n",
       "      <td>37355.11276</td>\n",
       "      <td>0</td>\n",
       "    </tr>\n",
       "  </tbody>\n",
       "</table>\n",
       "</div>"
      ],
      "text/plain": [
       "             Names                                             emails  \\\n",
       "0    Martina Avila  cubilia.Curae.Phasellus@quisaccumsanconvallis.edu   \n",
       "1    Harlan Barnes                                eu.dolor@diam.co.uk   \n",
       "2  Naomi Rodriquez  vulputate.mauris.sagittis@ametconsectetueradip...   \n",
       "3  Jade Cunningham                            malesuada@dignissim.com   \n",
       "4     Cedric Leach     felis.ullamcorper.viverra@egetmollislectus.net   \n",
       "\n",
       "        Country  Time Spent on Site       Salary  Clicked  \n",
       "0      Bulgaria           25.649648  55330.06006        0  \n",
       "1        Belize           32.456107  79049.07674        1  \n",
       "2       Algeria           20.945978  41098.60826        0  \n",
       "3  Cook Islands           54.039325  37143.35536        1  \n",
       "4        Brazil           34.249729  37355.11276        0  "
      ]
     },
     "execution_count": 27,
     "metadata": {},
     "output_type": "execute_result"
    }
   ],
   "source": [
    "# Show the data first five rows\n",
    "training_set.head()"
   ]
  },
  {
   "cell_type": "code",
   "execution_count": 28,
   "metadata": {},
   "outputs": [
    {
     "data": {
      "text/html": [
       "<div>\n",
       "<style scoped>\n",
       "    .dataframe tbody tr th:only-of-type {\n",
       "        vertical-align: middle;\n",
       "    }\n",
       "\n",
       "    .dataframe tbody tr th {\n",
       "        vertical-align: top;\n",
       "    }\n",
       "\n",
       "    .dataframe thead th {\n",
       "        text-align: right;\n",
       "    }\n",
       "</style>\n",
       "<table border=\"1\" class=\"dataframe\">\n",
       "  <thead>\n",
       "    <tr style=\"text-align: right;\">\n",
       "      <th></th>\n",
       "      <th>Names</th>\n",
       "      <th>emails</th>\n",
       "      <th>Country</th>\n",
       "      <th>Time Spent on Site</th>\n",
       "      <th>Salary</th>\n",
       "      <th>Clicked</th>\n",
       "    </tr>\n",
       "  </thead>\n",
       "  <tbody>\n",
       "    <tr>\n",
       "      <th>494</th>\n",
       "      <td>Rigel</td>\n",
       "      <td>egestas.blandit.Nam@semvitaealiquam.com</td>\n",
       "      <td>Sao Tome and Principe</td>\n",
       "      <td>19.222746</td>\n",
       "      <td>44969.13495</td>\n",
       "      <td>0</td>\n",
       "    </tr>\n",
       "    <tr>\n",
       "      <th>495</th>\n",
       "      <td>Walter</td>\n",
       "      <td>ligula@Cumsociis.ca</td>\n",
       "      <td>Nepal</td>\n",
       "      <td>22.665662</td>\n",
       "      <td>41686.20425</td>\n",
       "      <td>0</td>\n",
       "    </tr>\n",
       "    <tr>\n",
       "      <th>496</th>\n",
       "      <td>Vanna</td>\n",
       "      <td>Cum.sociis.natoque@Sedmolestie.edu</td>\n",
       "      <td>Zimbabwe</td>\n",
       "      <td>35.320239</td>\n",
       "      <td>23989.80864</td>\n",
       "      <td>0</td>\n",
       "    </tr>\n",
       "    <tr>\n",
       "      <th>497</th>\n",
       "      <td>Pearl</td>\n",
       "      <td>penatibus.et@massanonante.com</td>\n",
       "      <td>Philippines</td>\n",
       "      <td>26.539170</td>\n",
       "      <td>31708.57054</td>\n",
       "      <td>0</td>\n",
       "    </tr>\n",
       "    <tr>\n",
       "      <th>498</th>\n",
       "      <td>Nell</td>\n",
       "      <td>Quisque.varius@arcuVivamussit.net</td>\n",
       "      <td>Botswana</td>\n",
       "      <td>32.386148</td>\n",
       "      <td>74331.35442</td>\n",
       "      <td>1</td>\n",
       "    </tr>\n",
       "  </tbody>\n",
       "</table>\n",
       "</div>"
      ],
      "text/plain": [
       "      Names                                   emails                Country  \\\n",
       "494   Rigel  egestas.blandit.Nam@semvitaealiquam.com  Sao Tome and Principe   \n",
       "495  Walter                      ligula@Cumsociis.ca                  Nepal   \n",
       "496   Vanna       Cum.sociis.natoque@Sedmolestie.edu               Zimbabwe   \n",
       "497   Pearl            penatibus.et@massanonante.com            Philippines   \n",
       "498    Nell        Quisque.varius@arcuVivamussit.net               Botswana   \n",
       "\n",
       "     Time Spent on Site       Salary  Clicked  \n",
       "494           19.222746  44969.13495        0  \n",
       "495           22.665662  41686.20425        0  \n",
       "496           35.320239  23989.80864        0  \n",
       "497           26.539170  31708.57054        0  \n",
       "498           32.386148  74331.35442        1  "
      ]
     },
     "execution_count": 28,
     "metadata": {},
     "output_type": "execute_result"
    }
   ],
   "source": [
    "# Show the data last five rows\n",
    "training_set.tail()"
   ]
  },
  {
   "cell_type": "markdown",
   "metadata": {},
   "source": [
    "# Step #2: EDA - Explore/Visualize Dataset"
   ]
  },
  {
   "cell_type": "code",
   "execution_count": 29,
   "metadata": {},
   "outputs": [],
   "source": [
    "click = training_set[training_set[\"Clicked\"]==1]\n",
    "no_click = training_set[training_set[\"Clicked\"]==0]"
   ]
  },
  {
   "cell_type": "code",
   "execution_count": 30,
   "metadata": {},
   "outputs": [
    {
     "name": "stdout",
     "output_type": "stream",
     "text": [
      "Total = 499\n",
      "Number of customers who clicked on Ad = 250\n",
      "Percentage Clicked = 50.1002004008016 %\n",
      "Did not Click = 249\n",
      "Percentage who did not Click = 49.899799599198396 %\n"
     ]
    }
   ],
   "source": [
    "print(\"Total =\", len(training_set))\n",
    "\n",
    "print(\"Number of customers who clicked on Ad =\", len(click))\n",
    "print(\"Percentage Clicked =\", 1.*len(click)/len(training_set)*100.0, \"%\")\n",
    " \n",
    "print(\"Did not Click =\", len(no_click))\n",
    "print(\"Percentage who did not Click =\", 1.*len(no_click)/len(training_set)*100.0, \"%\")"
   ]
  },
  {
   "cell_type": "code",
   "execution_count": 31,
   "metadata": {},
   "outputs": [
    {
     "data": {
      "text/plain": [
       "<AxesSubplot:xlabel='Time Spent on Site', ylabel='Salary'>"
      ]
     },
     "execution_count": 31,
     "metadata": {},
     "output_type": "execute_result"
    },
    {
     "data": {
      "image/png": "[encoded data removed]",
      "text/plain": [
       "<Figure size 432x288 with 1 Axes>"
      ]
     },
     "metadata": {
      "needs_background": "light"
     },
     "output_type": "display_data"
    }
   ],
   "source": [
    "sns.scatterplot(training_set['Time Spent on Site'], training_set['Salary'], hue = training_set['Clicked'])"
   ]
  },
  {
   "cell_type": "code",
   "execution_count": 32,
   "metadata": {},
   "outputs": [
    {
     "data": {
      "text/plain": [
       "<AxesSubplot:xlabel='Clicked', ylabel='Salary'>"
      ]
     },
     "execution_count": 32,
     "metadata": {},
     "output_type": "execute_result"
    },
    {
     "data": {
      "image/png": "[encoded data removed]",
      "text/plain": [
       "<Figure size 360x360 with 1 Axes>"
      ]
     },
     "metadata": {
      "needs_background": "light"
     },
     "output_type": "display_data"
    }
   ],
   "source": [
    "plt.figure(figsize=(5, 5))\n",
    "sns.boxplot(x='Clicked', y='Salary',data=training_set)"
   ]
  },
  {
   "cell_type": "code",
   "execution_count": 33,
   "metadata": {},
   "outputs": [
    {
     "data": {
      "text/plain": [
       "<AxesSubplot:xlabel='Clicked', ylabel='Time Spent on Site'>"
      ]
     },
     "execution_count": 33,
     "metadata": {},
     "output_type": "execute_result"
    },
    {
     "data": {
      "image/png": "[encoded data removed]",
      "text/plain": [
       "<Figure size 360x360 with 1 Axes>"
      ]
     },
     "metadata": {
      "needs_background": "light"
     },
     "output_type": "display_data"
    }
   ],
   "source": [
    "plt.figure(figsize=(5, 5))\n",
    "sns.boxplot(x='Clicked', y='Time Spent on Site',data=training_set)"
   ]
  },
  {
   "cell_type": "code",
   "execution_count": 34,
   "metadata": {},
   "outputs": [
    {
     "data": {
      "text/plain": [
       "<AxesSubplot:>"
      ]
     },
     "execution_count": 34,
     "metadata": {},
     "output_type": "execute_result"
    },
    {
     "data": {
      "image/png": "[encoded data removed]",
      "text/plain": [
       "<Figure size 432x288 with 1 Axes>"
      ]
     },
     "metadata": {
      "needs_background": "light"
     },
     "output_type": "display_data"
    }
   ],
   "source": [
    "training_set['Salary'].hist(bins = 40)"
   ]
  },
  {
   "cell_type": "code",
   "execution_count": 35,
   "metadata": {},
   "outputs": [
    {
     "data": {
      "text/plain": [
       "<AxesSubplot:>"
      ]
     },
     "execution_count": 35,
     "metadata": {},
     "output_type": "execute_result"
    },
    {
     "data": {
      "image/png": "[encoded data removed]",
      "text/plain": [
       "<Figure size 432x288 with 1 Axes>"
      ]
     },
     "metadata": {
      "needs_background": "light"
     },
     "output_type": "display_data"
    }
   ],
   "source": [
    "training_set['Time Spent on Site'].hist(bins = 20)"
   ]
  },
  {
   "cell_type": "markdown",
   "metadata": {},
   "source": [
    "# Step #3: Prepare the data for training/Data Cleaning"
   ]
  },
  {
   "cell_type": "code",
   "execution_count": 36,
   "metadata": {},
   "outputs": [
    {
     "data": {
      "text/html": [
       "<div>\n",
       "<style scoped>\n",
       "    .dataframe tbody tr th:only-of-type {\n",
       "        vertical-align: middle;\n",
       "    }\n",
       "\n",
       "    .dataframe tbody tr th {\n",
       "        vertical-align: top;\n",
       "    }\n",
       "\n",
       "    .dataframe thead th {\n",
       "        text-align: right;\n",
       "    }\n",
       "</style>\n",
       "<table border=\"1\" class=\"dataframe\">\n",
       "  <thead>\n",
       "    <tr style=\"text-align: right;\">\n",
       "      <th></th>\n",
       "      <th>Names</th>\n",
       "      <th>emails</th>\n",
       "      <th>Country</th>\n",
       "      <th>Time Spent on Site</th>\n",
       "      <th>Salary</th>\n",
       "      <th>Clicked</th>\n",
       "    </tr>\n",
       "  </thead>\n",
       "  <tbody>\n",
       "    <tr>\n",
       "      <th>0</th>\n",
       "      <td>Martina Avila</td>\n",
       "      <td>cubilia.Curae.Phasellus@quisaccumsanconvallis.edu</td>\n",
       "      <td>Bulgaria</td>\n",
       "      <td>25.649648</td>\n",
       "      <td>55330.06006</td>\n",
       "      <td>0</td>\n",
       "    </tr>\n",
       "    <tr>\n",
       "      <th>1</th>\n",
       "      <td>Harlan Barnes</td>\n",
       "      <td>eu.dolor@diam.co.uk</td>\n",
       "      <td>Belize</td>\n",
       "      <td>32.456107</td>\n",
       "      <td>79049.07674</td>\n",
       "      <td>1</td>\n",
       "    </tr>\n",
       "    <tr>\n",
       "      <th>2</th>\n",
       "      <td>Naomi Rodriquez</td>\n",
       "      <td>vulputate.mauris.sagittis@ametconsectetueradip...</td>\n",
       "      <td>Algeria</td>\n",
       "      <td>20.945978</td>\n",
       "      <td>41098.60826</td>\n",
       "      <td>0</td>\n",
       "    </tr>\n",
       "    <tr>\n",
       "      <th>3</th>\n",
       "      <td>Jade Cunningham</td>\n",
       "      <td>malesuada@dignissim.com</td>\n",
       "      <td>Cook Islands</td>\n",
       "      <td>54.039325</td>\n",
       "      <td>37143.35536</td>\n",
       "      <td>1</td>\n",
       "    </tr>\n",
       "    <tr>\n",
       "      <th>4</th>\n",
       "      <td>Cedric Leach</td>\n",
       "      <td>felis.ullamcorper.viverra@egetmollislectus.net</td>\n",
       "      <td>Brazil</td>\n",
       "      <td>34.249729</td>\n",
       "      <td>37355.11276</td>\n",
       "      <td>0</td>\n",
       "    </tr>\n",
       "    <tr>\n",
       "      <th>...</th>\n",
       "      <td>...</td>\n",
       "      <td>...</td>\n",
       "      <td>...</td>\n",
       "      <td>...</td>\n",
       "      <td>...</td>\n",
       "      <td>...</td>\n",
       "    </tr>\n",
       "    <tr>\n",
       "      <th>494</th>\n",
       "      <td>Rigel</td>\n",
       "      <td>egestas.blandit.Nam@semvitaealiquam.com</td>\n",
       "      <td>Sao Tome and Principe</td>\n",
       "      <td>19.222746</td>\n",
       "      <td>44969.13495</td>\n",
       "      <td>0</td>\n",
       "    </tr>\n",
       "    <tr>\n",
       "      <th>495</th>\n",
       "      <td>Walter</td>\n",
       "      <td>ligula@Cumsociis.ca</td>\n",
       "      <td>Nepal</td>\n",
       "      <td>22.665662</td>\n",
       "      <td>41686.20425</td>\n",
       "      <td>0</td>\n",
       "    </tr>\n",
       "    <tr>\n",
       "      <th>496</th>\n",
       "      <td>Vanna</td>\n",
       "      <td>Cum.sociis.natoque@Sedmolestie.edu</td>\n",
       "      <td>Zimbabwe</td>\n",
       "      <td>35.320239</td>\n",
       "      <td>23989.80864</td>\n",
       "      <td>0</td>\n",
       "    </tr>\n",
       "    <tr>\n",
       "      <th>497</th>\n",
       "      <td>Pearl</td>\n",
       "      <td>penatibus.et@massanonante.com</td>\n",
       "      <td>Philippines</td>\n",
       "      <td>26.539170</td>\n",
       "      <td>31708.57054</td>\n",
       "      <td>0</td>\n",
       "    </tr>\n",
       "    <tr>\n",
       "      <th>498</th>\n",
       "      <td>Nell</td>\n",
       "      <td>Quisque.varius@arcuVivamussit.net</td>\n",
       "      <td>Botswana</td>\n",
       "      <td>32.386148</td>\n",
       "      <td>74331.35442</td>\n",
       "      <td>1</td>\n",
       "    </tr>\n",
       "  </tbody>\n",
       "</table>\n",
       "<p>499 rows × 6 columns</p>\n",
       "</div>"
      ],
      "text/plain": [
       "               Names                                             emails  \\\n",
       "0      Martina Avila  cubilia.Curae.Phasellus@quisaccumsanconvallis.edu   \n",
       "1      Harlan Barnes                                eu.dolor@diam.co.uk   \n",
       "2    Naomi Rodriquez  vulputate.mauris.sagittis@ametconsectetueradip...   \n",
       "3    Jade Cunningham                            malesuada@dignissim.com   \n",
       "4       Cedric Leach     felis.ullamcorper.viverra@egetmollislectus.net   \n",
       "..               ...                                                ...   \n",
       "494            Rigel            egestas.blandit.Nam@semvitaealiquam.com   \n",
       "495           Walter                                ligula@Cumsociis.ca   \n",
       "496            Vanna                 Cum.sociis.natoque@Sedmolestie.edu   \n",
       "497            Pearl                      penatibus.et@massanonante.com   \n",
       "498             Nell                  Quisque.varius@arcuVivamussit.net   \n",
       "\n",
       "                   Country  Time Spent on Site       Salary  Clicked  \n",
       "0                 Bulgaria           25.649648  55330.06006        0  \n",
       "1                   Belize           32.456107  79049.07674        1  \n",
       "2                  Algeria           20.945978  41098.60826        0  \n",
       "3             Cook Islands           54.039325  37143.35536        1  \n",
       "4                   Brazil           34.249729  37355.11276        0  \n",
       "..                     ...                 ...          ...      ...  \n",
       "494  Sao Tome and Principe           19.222746  44969.13495        0  \n",
       "495                  Nepal           22.665662  41686.20425        0  \n",
       "496               Zimbabwe           35.320239  23989.80864        0  \n",
       "497            Philippines           26.539170  31708.57054        0  \n",
       "498               Botswana           32.386148  74331.35442        1  \n",
       "\n",
       "[499 rows x 6 columns]"
      ]
     },
     "execution_count": 36,
     "metadata": {},
     "output_type": "execute_result"
    }
   ],
   "source": [
    "training_set"
   ]
  },
  {
   "cell_type": "code",
   "execution_count": 37,
   "metadata": {},
   "outputs": [],
   "source": [
    "#Let's drop the emails, country and names (we can make use of the country later!)\n",
    "training_set.drop([\"Names\",\"emails\",\"Country\"],axis=1,inplace=True)"
   ]
  },
  {
   "cell_type": "code",
   "execution_count": 38,
   "metadata": {},
   "outputs": [
    {
     "data": {
      "text/html": [
       "<div>\n",
       "<style scoped>\n",
       "    .dataframe tbody tr th:only-of-type {\n",
       "        vertical-align: middle;\n",
       "    }\n",
       "\n",
       "    .dataframe tbody tr th {\n",
       "        vertical-align: top;\n",
       "    }\n",
       "\n",
       "    .dataframe thead th {\n",
       "        text-align: right;\n",
       "    }\n",
       "</style>\n",
       "<table border=\"1\" class=\"dataframe\">\n",
       "  <thead>\n",
       "    <tr style=\"text-align: right;\">\n",
       "      <th></th>\n",
       "      <th>Time Spent on Site</th>\n",
       "      <th>Salary</th>\n",
       "      <th>Clicked</th>\n",
       "    </tr>\n",
       "  </thead>\n",
       "  <tbody>\n",
       "    <tr>\n",
       "      <th>0</th>\n",
       "      <td>25.649648</td>\n",
       "      <td>55330.06006</td>\n",
       "      <td>0</td>\n",
       "    </tr>\n",
       "    <tr>\n",
       "      <th>1</th>\n",
       "      <td>32.456107</td>\n",
       "      <td>79049.07674</td>\n",
       "      <td>1</td>\n",
       "    </tr>\n",
       "    <tr>\n",
       "      <th>2</th>\n",
       "      <td>20.945978</td>\n",
       "      <td>41098.60826</td>\n",
       "      <td>0</td>\n",
       "    </tr>\n",
       "    <tr>\n",
       "      <th>3</th>\n",
       "      <td>54.039325</td>\n",
       "      <td>37143.35536</td>\n",
       "      <td>1</td>\n",
       "    </tr>\n",
       "    <tr>\n",
       "      <th>4</th>\n",
       "      <td>34.249729</td>\n",
       "      <td>37355.11276</td>\n",
       "      <td>0</td>\n",
       "    </tr>\n",
       "    <tr>\n",
       "      <th>...</th>\n",
       "      <td>...</td>\n",
       "      <td>...</td>\n",
       "      <td>...</td>\n",
       "    </tr>\n",
       "    <tr>\n",
       "      <th>494</th>\n",
       "      <td>19.222746</td>\n",
       "      <td>44969.13495</td>\n",
       "      <td>0</td>\n",
       "    </tr>\n",
       "    <tr>\n",
       "      <th>495</th>\n",
       "      <td>22.665662</td>\n",
       "      <td>41686.20425</td>\n",
       "      <td>0</td>\n",
       "    </tr>\n",
       "    <tr>\n",
       "      <th>496</th>\n",
       "      <td>35.320239</td>\n",
       "      <td>23989.80864</td>\n",
       "      <td>0</td>\n",
       "    </tr>\n",
       "    <tr>\n",
       "      <th>497</th>\n",
       "      <td>26.539170</td>\n",
       "      <td>31708.57054</td>\n",
       "      <td>0</td>\n",
       "    </tr>\n",
       "    <tr>\n",
       "      <th>498</th>\n",
       "      <td>32.386148</td>\n",
       "      <td>74331.35442</td>\n",
       "      <td>1</td>\n",
       "    </tr>\n",
       "  </tbody>\n",
       "</table>\n",
       "<p>499 rows × 3 columns</p>\n",
       "</div>"
      ],
      "text/plain": [
       "     Time Spent on Site       Salary  Clicked\n",
       "0             25.649648  55330.06006        0\n",
       "1             32.456107  79049.07674        1\n",
       "2             20.945978  41098.60826        0\n",
       "3             54.039325  37143.35536        1\n",
       "4             34.249729  37355.11276        0\n",
       "..                  ...          ...      ...\n",
       "494           19.222746  44969.13495        0\n",
       "495           22.665662  41686.20425        0\n",
       "496           35.320239  23989.80864        0\n",
       "497           26.539170  31708.57054        0\n",
       "498           32.386148  74331.35442        1\n",
       "\n",
       "[499 rows x 3 columns]"
      ]
     },
     "execution_count": 38,
     "metadata": {},
     "output_type": "execute_result"
    }
   ],
   "source": [
    "training_set"
   ]
  },
  {
   "cell_type": "code",
   "execution_count": 39,
   "metadata": {},
   "outputs": [],
   "source": [
    "#Let's drop the target coloumn before we do train test split\n",
    "X = training_set.drop('Clicked',axis=1).values\n",
    "y = training_set['Clicked'].values"
   ]
  },
  {
   "cell_type": "code",
   "execution_count": 40,
   "metadata": {},
   "outputs": [],
   "source": [
    "# Feature Scaling\n",
    "from sklearn.preprocessing import StandardScaler\n",
    "sc = StandardScaler()\n",
    "X = sc.fit_transform(X)"
   ]
  },
  {
   "cell_type": "markdown",
   "metadata": {},
   "source": [
    "# Step #4: Model Training"
   ]
  },
  {
   "cell_type": "code",
   "execution_count": 41,
   "metadata": {},
   "outputs": [],
   "source": [
    "from sklearn.model_selection import train_test_split\n",
    "X_train, X_test, y_train, y_test = train_test_split(X, y, test_size=0.2, random_state=0)"
   ]
  },
  {
   "cell_type": "code",
   "execution_count": 42,
   "metadata": {},
   "outputs": [
    {
     "data": {
      "text/plain": [
       "array([[ 1.42362615e+00,  2.28294560e+00],\n",
       "       [ 1.27842887e+00,  6.42418929e-01],\n",
       "       [ 9.38760851e-01,  1.21381549e+00],\n",
       "       [ 5.41314780e-01,  2.60639388e-01],\n",
       "       [ 1.09531908e+00,  4.75030899e-01],\n",
       "       [-1.31149405e+00, -8.81682059e-01],\n",
       "       [ 3.95482032e-01,  1.85281787e+00],\n",
       "       [ 1.23876495e+00,  6.50963986e-01],\n",
       "       [ 3.93751298e-01, -2.41424855e-01],\n",
       "       [-2.40764550e-01, -3.10185529e-01],\n",
       "       [ 1.24585679e+00,  1.41180492e+00],\n",
       "       [-7.96458904e-01, -1.21483411e+00],\n",
       "       [-9.34969620e-01, -1.70625532e-01],\n",
       "       [ 8.55264296e-01, -9.81324726e-01],\n",
       "       [-1.91132465e-01,  4.15148736e-01],\n",
       "       [-1.10130678e+00, -9.69857225e-01],\n",
       "       [ 1.29105293e+00,  1.18761807e+00],\n",
       "       [-5.13376111e-01,  2.30822516e-01],\n",
       "       [ 1.50793876e+00,  5.77561928e-01],\n",
       "       [-1.58972467e-01, -1.50307162e+00],\n",
       "       [-8.42943155e-01, -4.29119606e-01],\n",
       "       [ 3.71283295e-01, -1.24101139e+00],\n",
       "       [-1.50339446e+00, -3.88461766e-01],\n",
       "       [-1.38412304e+00, -7.82259943e-01],\n",
       "       [-9.70629827e-01, -1.79172680e+00],\n",
       "       [-1.64586907e-01,  5.34031939e-01],\n",
       "       [ 4.27588688e-01,  1.49632055e+00],\n",
       "       [-2.20285872e-01, -1.78035137e+00],\n",
       "       [-2.99815039e-01, -4.78395457e-01],\n",
       "       [ 6.26603767e-01,  2.88253836e-01],\n",
       "       [ 4.37877245e-01, -1.07083877e+00],\n",
       "       [ 6.25693271e-02,  1.52483521e+00],\n",
       "       [-1.71553149e-01,  9.27029232e-02],\n",
       "       [-6.03469542e-01, -6.36922663e-01],\n",
       "       [-1.08480907e+00, -7.86291560e-01],\n",
       "       [-9.95654359e-01, -1.55281483e+00],\n",
       "       [-8.30558309e-01, -8.27878447e-01],\n",
       "       [-1.96516240e+00,  2.35892897e+00],\n",
       "       [-1.08090975e+00, -6.45661787e-01],\n",
       "       [-3.97797805e-01,  7.53495593e-01],\n",
       "       [ 4.04226954e-01,  1.01983375e+00],\n",
       "       [-1.33525938e+00, -1.43669691e+00],\n",
       "       [ 5.85176219e-01, -2.95619009e-03],\n",
       "       [ 7.58754335e-01,  9.28106741e-01],\n",
       "       [ 1.13932638e+00,  6.46623388e-02],\n",
       "       [ 1.46195572e-01, -8.19280959e-01],\n",
       "       [-4.57989979e-01,  8.55755068e-01],\n",
       "       [ 1.19093972e+00, -1.11701595e-01],\n",
       "       [ 8.33735517e-01, -1.44091133e-02],\n",
       "       [ 2.09908496e+00,  1.46259598e+00],\n",
       "       [ 1.98004083e-01,  1.46799168e+00],\n",
       "       [-7.23528829e-01, -8.26128261e-01],\n",
       "       [-1.04357578e+00, -1.40648087e+00],\n",
       "       [-3.07006494e+00, -2.93483588e-01],\n",
       "       [-1.04638433e+00,  6.41012750e-01],\n",
       "       [ 1.02580543e+00, -1.09023371e+00],\n",
       "       [ 2.42362882e-01,  9.79617511e-01],\n",
       "       [-1.73917217e+00,  4.62029789e-01],\n",
       "       [ 6.38603734e-03,  1.46624390e+00],\n",
       "       [ 5.27406027e-01,  6.21976462e-01],\n",
       "       [-1.62066851e+00,  1.25136057e+00],\n",
       "       [-4.11683924e-01, -8.01898428e-01],\n",
       "       [ 1.26772505e+00,  1.32538754e+00],\n",
       "       [ 1.06931056e+00,  8.62704790e-01],\n",
       "       [-7.56628310e-01,  1.16045764e+00],\n",
       "       [ 5.17343401e-01, -9.80297728e-02],\n",
       "       [ 9.00127361e-02,  9.03336004e-01],\n",
       "       [ 2.28098620e+00,  1.65189364e-02],\n",
       "       [-5.87212695e-02,  1.12989966e+00],\n",
       "       [-5.10850236e-01,  1.55500352e+00],\n",
       "       [ 5.13026747e-01, -1.53519500e+00],\n",
       "       [ 1.75289177e+00,  1.06719582e+00],\n",
       "       [-8.61257819e-01,  4.61587932e-01],\n",
       "       [ 7.92715785e-01,  1.19646227e+00],\n",
       "       [-1.12757275e+00, -5.90970043e-01],\n",
       "       [-4.63010108e-01,  4.82897080e-01],\n",
       "       [-1.53834725e+00,  6.36975234e-01],\n",
       "       [-7.34061465e-01,  4.45445910e-01],\n",
       "       [-2.16629216e+00, -5.90937478e-01],\n",
       "       [ 9.68142138e-02, -3.89771134e-01],\n",
       "       [ 1.27887913e+00,  3.00539351e-01],\n",
       "       [-8.07290438e-01, -2.51404610e+00],\n",
       "       [-7.70799281e-01, -2.78737926e+00],\n",
       "       [ 1.09575096e+00,  2.77556768e-01],\n",
       "       [-1.54140563e-01, -9.28813900e-01],\n",
       "       [ 1.40123857e+00,  1.31693631e+00],\n",
       "       [ 2.63141389e-01,  1.02742605e-01],\n",
       "       [ 6.26106703e-01,  7.50557005e-01],\n",
       "       [ 2.68027594e-01, -1.46264059e+00],\n",
       "       [-7.83042479e-01, -1.17847545e+00],\n",
       "       [-2.14563526e-01, -1.22150728e+00],\n",
       "       [ 4.48526308e-01, -4.17928816e-01],\n",
       "       [-2.31539247e+00, -3.83492704e-01],\n",
       "       [-2.30791221e+00,  6.30805286e-02],\n",
       "       [ 3.74335737e-01,  1.24675686e+00],\n",
       "       [ 1.20517638e+00,  1.29016696e+00],\n",
       "       [ 3.93423635e-01,  2.18334976e+00],\n",
       "       [ 1.26919024e+00,  5.37010699e-01],\n",
       "       [ 1.75384005e+00, -9.55319376e-01],\n",
       "       [ 8.36006939e-01,  1.29034412e+00],\n",
       "       [-3.79541731e-01,  8.54526231e-01],\n",
       "       [ 4.61044031e-01,  1.22953955e+00],\n",
       "       [-8.55203904e-01,  1.19309732e-01],\n",
       "       [-1.34304341e+00, -2.41164554e+00],\n",
       "       [-2.14676220e-01,  1.08951849e+00],\n",
       "       [ 1.09951354e+00,  2.83820577e-01],\n",
       "       [-8.26322393e-01, -1.81101702e+00],\n",
       "       [ 5.06769182e-01,  5.24684010e-01],\n",
       "       [-3.36520977e-01, -1.80955955e-01],\n",
       "       [-3.22365808e-01,  1.27372563e+00],\n",
       "       [ 9.57532560e-01,  5.39093731e-01],\n",
       "       [-8.84084416e-01, -3.67546944e-01],\n",
       "       [-1.05140613e+00,  3.96649865e-01],\n",
       "       [-2.96569336e-01, -1.02427718e+00],\n",
       "       [-1.31666684e+00, -6.21944817e-01],\n",
       "       [ 5.85621734e-01,  2.22471293e+00],\n",
       "       [-8.97110238e-01, -7.59750031e-01],\n",
       "       [-2.46432412e+00, -7.12438478e-01],\n",
       "       [ 7.36313085e-02,  3.12949006e-01],\n",
       "       [ 8.07307574e-01,  3.89280819e-01],\n",
       "       [-1.83985612e-01,  1.22125527e+00],\n",
       "       [ 7.71325501e-02, -2.89783841e-02],\n",
       "       [ 2.22478229e+00, -5.06242025e-01],\n",
       "       [-7.11760871e-02, -4.61959666e-02],\n",
       "       [ 9.65145405e-01,  8.56079168e-02],\n",
       "       [-6.48493466e-01, -1.63506165e-01],\n",
       "       [ 2.92083143e-01,  1.59028643e+00],\n",
       "       [-1.42957514e+00, -1.19639234e+00],\n",
       "       [ 1.54851891e+00,  7.56632828e-01],\n",
       "       [ 1.01336250e+00,  3.88173967e-01],\n",
       "       [ 3.31256892e-01, -1.12033884e+00],\n",
       "       [-9.42115649e-01, -6.82921220e-01],\n",
       "       [ 6.96080135e-01, -5.47814001e-01],\n",
       "       [ 7.67911699e-01,  7.06197711e-01],\n",
       "       [ 4.67658202e-01,  5.72131754e-01],\n",
       "       [ 3.44927602e-01, -1.47132096e-01],\n",
       "       [ 1.00576017e+00,  1.60149293e+00],\n",
       "       [ 1.74544624e-01,  2.10597713e+00],\n",
       "       [ 2.02565664e+00, -3.80108047e-01],\n",
       "       [-4.25875625e-01, -7.26998696e-01],\n",
       "       [ 1.49602548e+00,  1.77425975e+00],\n",
       "       [-8.36244919e-01,  1.55798548e+00],\n",
       "       [-4.44161882e-01, -8.06752732e-01],\n",
       "       [-2.12819745e-01, -2.09385547e+00],\n",
       "       [-8.10221766e-01, -1.67739289e+00],\n",
       "       [-5.87596986e-01,  6.82896020e-01],\n",
       "       [-9.67986770e-01, -2.74018308e-01],\n",
       "       [ 4.78697583e-01, -5.38748631e-02],\n",
       "       [-1.67886526e+00, -4.43579312e-01],\n",
       "       [-1.15062936e+00, -2.70262657e-01],\n",
       "       [-1.06031983e+00, -6.39528470e-01],\n",
       "       [ 8.35352248e-01,  8.15579497e-01],\n",
       "       [ 4.22850089e-01,  2.99119417e-02],\n",
       "       [-1.52082427e+00, -7.17817507e-01],\n",
       "       [-4.46051290e-01,  1.42238958e-01],\n",
       "       [-2.57773009e-01,  6.77162007e-01],\n",
       "       [ 9.94318342e-01,  5.57837715e-01],\n",
       "       [-1.15672451e+00, -2.35367919e-01],\n",
       "       [ 3.54770860e-01,  9.10179368e-01],\n",
       "       [ 2.11424289e-01, -8.30323562e-01],\n",
       "       [-9.02941484e-01,  2.77678635e-01],\n",
       "       [ 3.33987204e-01, -1.53998204e+00],\n",
       "       [-1.90921852e+00,  1.13647954e-01],\n",
       "       [ 6.74690547e-01, -1.25031357e+00],\n",
       "       [ 1.42843937e+00,  1.07942714e+00],\n",
       "       [-2.10129200e-01, -9.14068144e-02],\n",
       "       [ 3.42595298e-02, -1.00778802e+00],\n",
       "       [ 8.95572644e-02,  6.05801956e-01],\n",
       "       [-2.40954941e-01,  7.44605776e-01],\n",
       "       [ 8.59447839e-01, -9.26391980e-01],\n",
       "       [ 3.20443973e-01,  1.28450995e-01],\n",
       "       [-4.39547045e-01, -6.74015836e-01],\n",
       "       [-8.48086524e-01,  1.31739164e+00],\n",
       "       [ 8.47383498e-01,  3.46881340e-01],\n",
       "       [ 1.60690195e+00,  2.11529721e+00],\n",
       "       [-1.69821011e+00, -6.02685912e-01],\n",
       "       [ 6.11737542e-01, -4.49410826e-01],\n",
       "       [-1.55636639e+00, -7.10749996e-01],\n",
       "       [ 1.51842223e+00,  8.97182126e-01],\n",
       "       [-5.00122693e-01, -1.42137651e+00],\n",
       "       [-2.58428573e-01,  7.94191124e-01],\n",
       "       [-3.51687074e-01,  1.28325152e+00],\n",
       "       [ 5.94008832e-01,  2.44274732e-02],\n",
       "       [-7.92284323e-02, -1.13927733e+00],\n",
       "       [ 2.22717403e-01, -6.89598308e-01],\n",
       "       [ 1.24421282e+00,  1.98007694e+00],\n",
       "       [-5.31909663e-01,  5.18115381e-02],\n",
       "       [-1.15357012e-01,  2.09050843e-01],\n",
       "       [-5.24576689e-02, -6.42743290e-02],\n",
       "       [ 1.01530031e+00, -2.34587828e-01],\n",
       "       [-4.99678376e-01,  1.96345929e+00],\n",
       "       [-1.05817867e+00, -1.75134230e-02],\n",
       "       [ 1.25368222e-01,  1.62675855e-01],\n",
       "       [ 3.21383283e-01, -9.94071196e-01],\n",
       "       [ 3.12995886e-01,  1.72720935e+00],\n",
       "       [-7.28129436e-01,  6.59010772e-01],\n",
       "       [-2.64415935e-01, -2.15238064e+00],\n",
       "       [-2.45407372e-01,  1.48826577e+00],\n",
       "       [ 7.94587947e-01,  1.13587727e+00],\n",
       "       [ 1.48961502e+00,  8.48212532e-01],\n",
       "       [ 6.26794649e-01, -2.40037655e-01],\n",
       "       [-9.11163106e-01, -1.32337060e+00],\n",
       "       [ 1.49769499e+00, -2.23166322e-01],\n",
       "       [ 1.47056762e+00, -7.20031987e-02],\n",
       "       [ 4.81997019e-01,  4.82652448e-01],\n",
       "       [-9.13201126e-01, -9.58097186e-01],\n",
       "       [-1.28672996e+00, -9.37298621e-01],\n",
       "       [ 3.22430299e-03,  2.81874547e-01],\n",
       "       [ 1.08309745e+00,  9.35907145e-01],\n",
       "       [ 2.63907387e-01, -1.52382503e+00],\n",
       "       [-1.37440455e+00, -6.73839622e-01],\n",
       "       [ 9.64390692e-01,  1.96145795e+00],\n",
       "       [-1.03622829e+00, -5.03522602e-01],\n",
       "       [ 6.52849533e-01,  1.29773683e-01],\n",
       "       [ 8.98997888e-01, -1.81000774e-01],\n",
       "       [-6.00890099e-01, -6.74237655e-01],\n",
       "       [ 6.60768319e-02,  2.05846448e-01],\n",
       "       [-2.78093845e-01,  3.49097910e-01],\n",
       "       [ 8.02525626e-01,  7.69345926e-01],\n",
       "       [ 3.88636743e-01, -2.00006952e-01],\n",
       "       [ 1.28833924e+00, -1.13937600e+00],\n",
       "       [ 5.27050651e-01,  1.44743530e-01],\n",
       "       [ 1.48257113e+00,  1.68256408e-01],\n",
       "       [-1.50615103e+00, -4.17912301e-01],\n",
       "       [ 7.19277726e-01, -1.00438525e+00],\n",
       "       [-1.82989184e+00, -7.77146018e-01],\n",
       "       [-1.31874898e+00, -2.34326440e-01],\n",
       "       [-5.59287751e-01, -6.60247498e-02],\n",
       "       [ 4.28762764e-01,  1.17038786e+00],\n",
       "       [ 1.23343285e+00,  3.29963489e-01],\n",
       "       [ 2.86389218e-01,  2.50098261e-01],\n",
       "       [ 1.12386746e+00,  5.76429012e-01],\n",
       "       [ 2.32223270e+00, -8.30443624e-01],\n",
       "       [ 6.62743265e-02, -1.15680141e-01],\n",
       "       [ 7.17787481e-01,  1.53197856e+00],\n",
       "       [-1.36646222e+00, -3.77859008e-01],\n",
       "       [-1.13175416e+00, -1.46893142e+00],\n",
       "       [-7.16051021e-01, -1.29402171e+00],\n",
       "       [ 6.60259442e-02, -1.05868940e-01],\n",
       "       [-1.46834772e-01, -1.23734947e+00],\n",
       "       [ 4.50249526e-01,  1.06273571e+00],\n",
       "       [ 8.99699844e-01,  1.55549616e+00],\n",
       "       [ 1.38267785e+00,  7.78269562e-01],\n",
       "       [-2.16905779e+00, -1.51110615e+00],\n",
       "       [-3.40516022e-01, -5.84545667e-01],\n",
       "       [ 3.30774731e-03, -5.14590296e-01],\n",
       "       [-5.55227833e-01, -1.54686351e+00],\n",
       "       [-1.14994093e+00, -2.41675560e+00],\n",
       "       [ 6.68147688e-02,  4.60377823e-01],\n",
       "       [ 1.77112538e-01, -1.19530208e+00],\n",
       "       [ 1.46184378e-01, -6.28570805e-01],\n",
       "       [-1.32137974e-01,  1.06219226e+00],\n",
       "       [-3.97184190e-01, -7.72570190e-01],\n",
       "       [ 9.97297177e-01,  9.64674708e-02],\n",
       "       [ 1.01932774e+00, -2.57057820e-01],\n",
       "       [ 9.77253201e-01,  1.40360447e+00],\n",
       "       [-4.37119518e-01, -1.21230079e+00],\n",
       "       [-2.08183761e-01, -9.25439405e-01],\n",
       "       [ 6.47280406e-01,  4.42902367e-01],\n",
       "       [-6.51575832e-02, -7.37071697e-01],\n",
       "       [-7.92902568e-01,  1.40635901e-01],\n",
       "       [ 1.14375260e+00,  3.71621874e-01],\n",
       "       [ 1.82927627e+00,  6.98873547e-01],\n",
       "       [ 8.06383164e-02,  1.57436078e-01],\n",
       "       [ 9.65271066e-01, -6.68572372e-01],\n",
       "       [ 1.09829758e+00,  1.58130470e-01],\n",
       "       [ 2.62399033e-01, -2.13904662e+00],\n",
       "       [ 5.83025801e-01, -6.16505695e-01],\n",
       "       [ 1.54767089e+00,  1.91514534e+00],\n",
       "       [ 4.63557430e-01, -6.13245268e-02],\n",
       "       [-5.84577286e-01, -1.08879858e+00],\n",
       "       [-3.86929102e-01, -1.11683559e-01],\n",
       "       [-7.99457658e-01,  1.28257713e-01],\n",
       "       [-1.35670177e+00, -1.37162998e+00],\n",
       "       [-8.30822155e-01,  1.80117605e-01],\n",
       "       [ 1.48805910e+00,  9.27229065e-01],\n",
       "       [-2.20512679e+00, -1.35732813e+00],\n",
       "       [-9.08416002e-01, -8.62416406e-01],\n",
       "       [ 1.06851142e-01,  2.78900567e-01],\n",
       "       [ 9.48297203e-01,  1.52645424e-01],\n",
       "       [-4.24672606e-01,  1.09258439e-01],\n",
       "       [-1.07088607e+00, -5.56898156e-01],\n",
       "       [-3.76790524e-01, -8.05747851e-01],\n",
       "       [ 1.71127024e+00,  7.13893183e-01],\n",
       "       [ 5.59128087e-01,  5.32813464e-01],\n",
       "       [-1.53083648e+00, -1.06206594e-01],\n",
       "       [-3.81072741e-01, -2.05002079e+00],\n",
       "       [-2.20803378e-02, -7.65877249e-01],\n",
       "       [ 1.17686548e+00, -4.72227031e-01],\n",
       "       [ 1.21969727e+00,  5.24899798e-01],\n",
       "       [ 6.73923340e-01,  1.08694925e+00],\n",
       "       [ 7.62151072e-01,  2.21682152e+00],\n",
       "       [ 1.01120803e-01, -1.78517437e+00],\n",
       "       [-1.30466988e+00,  2.73688390e-01],\n",
       "       [ 1.97438437e+00,  3.50674064e-02],\n",
       "       [ 1.23170157e+00,  1.40040161e-01],\n",
       "       [-6.31381571e-01,  1.10571322e-01],\n",
       "       [ 7.06952134e-01,  1.08605172e+00],\n",
       "       [ 4.72072688e-01,  1.54992105e-01],\n",
       "       [-1.56574223e+00,  2.09274899e+00],\n",
       "       [ 7.35118466e-01,  4.70422049e-01],\n",
       "       [ 5.47286312e-01,  3.88731290e-01],\n",
       "       [-4.39656187e-01, -1.33815008e+00],\n",
       "       [-7.01646996e-01, -1.11693508e+00],\n",
       "       [ 2.21338476e+00,  1.06200284e+00],\n",
       "       [ 6.87656629e-01,  1.31802826e+00],\n",
       "       [-5.76773233e-01, -2.67824395e-01],\n",
       "       [-3.46385937e-01,  1.03522177e+00],\n",
       "       [-4.06046726e-01,  6.73695384e-01],\n",
       "       [-1.15244247e+00, -8.95045507e-01],\n",
       "       [-3.48394024e-01,  3.48103203e-02],\n",
       "       [ 4.39769398e-01,  4.62387961e-01],\n",
       "       [-4.13832022e-01, -7.11787278e-01],\n",
       "       [-3.77350625e-01, -1.41877223e+00],\n",
       "       [-1.40217917e+00, -9.69866388e-01],\n",
       "       [-1.90235607e+00, -1.12631589e+00],\n",
       "       [ 1.29267843e+00,  2.27779326e-01],\n",
       "       [ 4.17850565e-02,  7.22629886e-01],\n",
       "       [-1.63019618e-01,  1.19257227e+00],\n",
       "       [-5.73251834e-01, -2.23373358e-01],\n",
       "       [ 1.55596010e+00,  1.46613769e+00],\n",
       "       [ 2.31823509e+00, -4.49316213e-01],\n",
       "       [ 9.65530016e-01,  1.45734843e+00],\n",
       "       [ 2.46884600e-02,  1.57072173e+00],\n",
       "       [-9.02821987e-01,  8.84221540e-01],\n",
       "       [ 8.86682807e-01, -3.85107115e-01],\n",
       "       [-2.84140602e-02,  1.16573516e+00],\n",
       "       [ 7.08248950e-01,  1.47664601e+00],\n",
       "       [ 4.67665396e-01,  5.37880931e-01],\n",
       "       [-3.80043924e-01, -1.06169574e-01],\n",
       "       [-2.76609826e+00, -9.84487785e-01],\n",
       "       [-8.89786073e-01, -5.15023719e-01],\n",
       "       [-5.77249761e-01, -2.57793682e+00],\n",
       "       [-7.59855841e-01, -8.40723148e-01],\n",
       "       [ 1.72135322e-01, -1.59685526e+00],\n",
       "       [-8.27867118e-01, -2.76806472e-01],\n",
       "       [-1.81723975e-01, -5.77507350e-01],\n",
       "       [-2.78376117e-01, -1.02314121e+00],\n",
       "       [-9.76058419e-01, -8.65690883e-01],\n",
       "       [-1.01890451e+00, -1.21711654e+00],\n",
       "       [-6.60486714e-01,  4.49203455e-01],\n",
       "       [ 1.90806627e+00,  1.18123819e+00],\n",
       "       [ 8.28917148e-01,  5.63669895e-02],\n",
       "       [-1.09525041e+00, -9.40895801e-01],\n",
       "       [-1.47452537e-01, -1.02432161e+00],\n",
       "       [ 3.44964294e-01,  6.48699139e-01],\n",
       "       [-1.43047450e+00, -1.05441840e+00],\n",
       "       [-1.07836077e-01, -1.81034324e+00],\n",
       "       [ 7.99054399e-02, -1.08608789e+00],\n",
       "       [-2.73372941e-01, -6.56301972e-01],\n",
       "       [-6.13638244e-01, -5.97782954e-01],\n",
       "       [ 1.46155764e-02,  1.12979229e+00],\n",
       "       [-3.02098814e-01, -1.79861741e+00],\n",
       "       [ 2.39410715e-01,  8.82447136e-01],\n",
       "       [ 4.57969682e-01,  2.03857045e+00],\n",
       "       [ 2.89580706e-01,  9.60049594e-01],\n",
       "       [ 1.88298414e+00,  8.73179066e-01],\n",
       "       [ 1.27332419e+00, -3.98894338e-02],\n",
       "       [-8.43429381e-01, -1.15846205e+00],\n",
       "       [ 1.08537270e-01,  1.30280711e+00],\n",
       "       [ 1.69663462e+00,  1.11208820e-01],\n",
       "       [-1.21727002e-01, -9.06545636e-01],\n",
       "       [ 1.02626226e+00,  7.20450068e-01],\n",
       "       [ 1.87441076e-01,  4.63852044e-01],\n",
       "       [ 3.19541628e-01, -7.48136618e-01],\n",
       "       [-1.52479331e+00, -2.81813172e-01],\n",
       "       [ 1.87463590e+00,  9.98778697e-01],\n",
       "       [ 4.14921072e-01,  1.68278508e+00],\n",
       "       [-9.83818173e-01, -1.43310102e+00],\n",
       "       [-1.89904618e+00, -2.18295716e-01],\n",
       "       [-7.15823921e-01,  1.31349649e-01],\n",
       "       [ 2.18200890e-01,  1.56454875e-01],\n",
       "       [-1.42764854e+00, -9.82238280e-01],\n",
       "       [-4.80512809e-01, -8.57947754e-01],\n",
       "       [ 4.79229983e-01, -1.44345059e-01],\n",
       "       [ 5.22730195e-01,  4.81677546e-01],\n",
       "       [ 9.72978767e-01, -2.81183074e-01],\n",
       "       [ 4.71567012e-02, -4.61818265e-02],\n",
       "       [ 6.23629891e-01,  8.57812291e-02],\n",
       "       [-3.80543438e-01, -8.33300911e-01],\n",
       "       [ 9.99539856e-01,  4.82253821e-01],\n",
       "       [ 2.24544291e-01,  3.78344206e-01],\n",
       "       [-6.18726122e-01, -1.63385576e-02],\n",
       "       [-1.02959805e+00, -5.17888726e-01],\n",
       "       [-5.62486322e-01, -7.50962168e-01],\n",
       "       [ 9.27987041e-01,  1.06803889e+00],\n",
       "       [ 8.13069378e-01, -1.12138977e+00],\n",
       "       [-1.01610140e-01, -5.52306370e-01],\n",
       "       [ 1.05223712e+00,  7.99010943e-01],\n",
       "       [-1.15276892e+00, -2.39817489e-03],\n",
       "       [-3.55476114e-01, -6.21930555e-01],\n",
       "       [ 8.62103501e-01,  4.25322958e-01],\n",
       "       [ 5.68788255e-02, -5.86349250e-01],\n",
       "       [-5.78443863e-01, -1.74139851e+00],\n",
       "       [ 1.18473700e-01, -7.70880173e-01],\n",
       "       [-9.22546096e-01, -4.36985573e-02],\n",
       "       [-2.35017067e-01, -1.40143134e+00],\n",
       "       [-6.06572433e-01, -2.56770275e-01],\n",
       "       [ 1.01503492e+00, -1.50611667e+00]])"
      ]
     },
     "execution_count": 42,
     "metadata": {},
     "output_type": "execute_result"
    }
   ],
   "source": [
    "X_train"
   ]
  },
  {
   "cell_type": "code",
   "execution_count": 43,
   "metadata": {},
   "outputs": [
    {
     "data": {
      "text/plain": [
       "array([1, 1, 1, 0, 1, 0, 1, 1, 0, 0, 1, 0, 0, 1, 0, 0, 1, 1, 1, 0, 0, 1,\n",
       "       0, 0, 0, 1, 1, 0, 0, 1, 0, 1, 0, 0, 0, 0, 0, 0, 0, 0, 1, 0, 0, 1,\n",
       "       1, 0, 1, 1, 1, 1, 1, 0, 0, 0, 0, 1, 1, 0, 1, 1, 0, 0, 1, 1, 1, 1,\n",
       "       1, 1, 1, 1, 0, 1, 0, 1, 0, 0, 0, 0, 0, 0, 1, 0, 0, 1, 0, 1, 1, 1,\n",
       "       0, 0, 0, 0, 0, 0, 1, 1, 1, 1, 1, 1, 1, 1, 0, 0, 0, 1, 0, 1, 0, 1,\n",
       "       1, 0, 0, 0, 0, 1, 0, 0, 1, 1, 1, 1, 1, 1, 1, 0, 1, 0, 1, 1, 0, 0,\n",
       "       1, 1, 1, 1, 1, 1, 1, 1, 1, 1, 0, 0, 0, 0, 0, 1, 0, 0, 0, 1, 0, 0,\n",
       "       0, 1, 1, 0, 1, 0, 0, 0, 0, 0, 1, 0, 0, 1, 1, 1, 1, 0, 1, 1, 1, 0,\n",
       "       1, 0, 1, 0, 1, 1, 1, 0, 0, 1, 0, 1, 0, 1, 1, 1, 1, 0, 1, 1, 0, 1,\n",
       "       1, 1, 1, 0, 1, 1, 1, 0, 0, 1, 1, 0, 0, 1, 0, 1, 1, 0, 1, 1, 1, 0,\n",
       "       1, 1, 1, 0, 0, 0, 0, 0, 1, 1, 1, 1, 1, 0, 1, 0, 0, 0, 0, 0, 1, 1,\n",
       "       1, 0, 0, 0, 0, 0, 1, 0, 0, 1, 0, 1, 1, 1, 0, 0, 1, 0, 0, 1, 1, 0,\n",
       "       1, 1, 0, 1, 1, 1, 0, 0, 0, 0, 0, 1, 0, 0, 0, 1, 0, 0, 0, 1, 1, 0,\n",
       "       0, 0, 0, 1, 1, 1, 0, 0, 1, 1, 0, 1, 1, 1, 1, 1, 0, 0, 1, 1, 0, 1,\n",
       "       1, 0, 0, 1, 0, 0, 0, 0, 1, 0, 0, 0, 1, 1, 1, 1, 1, 1, 1, 1, 1, 0,\n",
       "       0, 0, 0, 0, 0, 0, 0, 0, 1, 0, 0, 1, 1, 0, 0, 1, 0, 0, 0, 0, 0, 1,\n",
       "       0, 1, 1, 1, 1, 1, 0, 1, 1, 0, 1, 1, 0, 0, 1, 1, 0, 0, 0, 0, 0, 0,\n",
       "       0, 1, 1, 1, 1, 0, 1, 1, 1, 0, 0, 1, 0, 0, 1, 0, 0, 1, 0, 0, 0, 0,\n",
       "       0, 0, 1], dtype=int64)"
      ]
     },
     "execution_count": 43,
     "metadata": {},
     "output_type": "execute_result"
    }
   ],
   "source": [
    "y_train"
   ]
  },
  {
   "cell_type": "code",
   "execution_count": 44,
   "metadata": {},
   "outputs": [
    {
     "data": {
      "text/plain": [
       "LogisticRegression(random_state=0)"
      ]
     },
     "execution_count": 44,
     "metadata": {},
     "output_type": "execute_result"
    }
   ],
   "source": [
    "# Fitting Logistic Regression to the Training set\n",
    "from sklearn.linear_model import LogisticRegression\n",
    "classifier = LogisticRegression(random_state = 0)\n",
    "classifier.fit(X_train, y_train)"
   ]
  },
  {
   "cell_type": "markdown",
   "metadata": {},
   "source": [
    "# Step #5: Model Training"
   ]
  },
  {
   "cell_type": "code",
   "execution_count": 45,
   "metadata": {},
   "outputs": [
    {
     "data": {
      "text/plain": [
       "array([[1.05007158e-04, 9.99894993e-01],\n",
       "       [7.21499846e-03, 9.92785002e-01],\n",
       "       [4.83202283e-03, 9.95167977e-01],\n",
       "       [1.18633407e-01, 8.81366593e-01],\n",
       "       [1.74720754e-02, 9.82527925e-01],\n",
       "       [9.96855430e-01, 3.14456989e-03],\n",
       "       [4.82293867e-03, 9.95177061e-01],\n",
       "       [7.88139130e-03, 9.92118609e-01],\n",
       "       [3.95242910e-01, 6.04757090e-01],\n",
       "       [8.14470535e-01, 1.85529465e-01],\n",
       "       [1.31210986e-03, 9.98687890e-01],\n",
       "       [9.94076615e-01, 5.92338490e-03],\n",
       "       [9.55240125e-01, 4.47598748e-02],\n",
       "       [5.09329673e-01, 4.90670327e-01],\n",
       "       [4.12416286e-01, 5.87583714e-01],\n",
       "       [9.95447761e-01, 4.55223895e-03],\n",
       "       [1.95670974e-03, 9.98043290e-01],\n",
       "       [7.23689718e-01, 2.76310282e-01],\n",
       "       [4.48124702e-03, 9.95518753e-01],\n",
       "       [9.82796416e-01, 1.72035838e-02],\n",
       "       [9.68092476e-01, 3.19075245e-02],\n",
       "       [8.78140801e-01, 1.21859199e-01],\n",
       "       [9.94132429e-01, 5.86757135e-03],\n",
       "       [9.96750282e-01, 3.24971826e-03],\n",
       "       [9.99043429e-01, 9.56570923e-04],\n",
       "       [3.30690398e-01, 6.69309602e-01],\n",
       "       [1.01131685e-02, 9.89886832e-01],\n",
       "       [9.92328022e-01, 7.67197849e-03],\n",
       "       [8.84436750e-01, 1.15563250e-01],\n",
       "       [9.07565965e-02, 9.09243404e-01],\n",
       "       [8.01199709e-01, 1.98800291e-01],\n",
       "       [2.53992028e-02, 9.74600797e-01],\n",
       "       [5.85784172e-01, 4.14215828e-01],\n",
       "       [9.62330723e-01, 3.76692769e-02],\n",
       "       [9.92701670e-01, 7.29832994e-03],\n",
       "       [9.98439270e-01, 1.56072972e-03],\n",
       "       [9.86762045e-01, 1.32379552e-02],\n",
       "       [4.93495694e-01, 5.06504306e-01],\n",
       "       [9.89779300e-01, 1.02207003e-02],\n",
       "       [3.59488969e-01, 6.40511031e-01],\n",
       "       [3.21453439e-02, 9.67854656e-01],\n",
       "       [9.99194057e-01, 8.05943112e-04],\n",
       "       [1.81042903e-01, 8.18957097e-01],\n",
       "       [1.52991941e-02, 9.84700806e-01],\n",
       "       [3.95280477e-02, 9.60471952e-01],\n",
       "       [8.32980154e-01, 1.67019846e-01],\n",
       "       [3.42674896e-01, 6.57325104e-01],\n",
       "       [5.11903259e-02, 9.48809674e-01],\n",
       "       [1.02882605e-01, 8.97117395e-01],\n",
       "       [1.11822535e-04, 9.99888177e-01],\n",
       "       [2.01039672e-02, 9.79896033e-01],\n",
       "       [9.82243825e-01, 1.77561750e-02],\n",
       "       [9.98074019e-01, 1.92598144e-03],\n",
       "       [9.99900552e-01, 9.94479104e-05],\n",
       "       [8.12756968e-01, 1.87243032e-01],\n",
       "       [4.55971942e-01, 5.44028058e-01],\n",
       "       [5.38656492e-02, 9.46134351e-01],\n",
       "       [9.77918437e-01, 2.20815633e-02],\n",
       "       [3.37046815e-02, 9.66295319e-01],\n",
       "       [5.66494964e-02, 9.43350504e-01],\n",
       "       [8.34571627e-01, 1.65428373e-01],\n",
       "       [9.56868150e-01, 4.31318498e-02],\n",
       "       [1.51211572e-03, 9.98487884e-01],\n",
       "       [7.65276544e-03, 9.92347235e-01],\n",
       "       [3.67368665e-01, 6.32631335e-01],\n",
       "       [2.49654646e-01, 7.50345354e-01],\n",
       "       [9.37451194e-02, 9.06254881e-01],\n",
       "       [1.99460953e-03, 9.98005390e-01],\n",
       "       [8.39360680e-02, 9.16063932e-01],\n",
       "       [1.05080398e-01, 8.94919602e-01],\n",
       "       [9.06670090e-01, 9.33299100e-02],\n",
       "       [7.29779192e-04, 9.99270221e-01],\n",
       "       [7.98833454e-01, 2.01166546e-01],\n",
       "       [7.49730989e-03, 9.92502690e-01],\n",
       "       [9.89782226e-01, 1.02177737e-02],\n",
       "       [5.58406251e-01, 4.41593749e-01],\n",
       "       [9.44248784e-01, 5.57512160e-02],\n",
       "       [7.44067958e-01, 2.55932042e-01],\n",
       "       [9.99405921e-01, 5.94078652e-04],\n",
       "       [6.76509107e-01, 3.23490893e-01],\n",
       "       [1.58943965e-02, 9.84105603e-01],\n",
       "       [9.99723262e-01, 2.76737689e-04],\n",
       "       [9.99838580e-01, 1.61420299e-04],\n",
       "       [2.74188311e-02, 9.72581169e-01],\n",
       "       [9.36346808e-01, 6.36531917e-02],\n",
       "       [1.06908278e-03, 9.98930917e-01],\n",
       "       [2.94930296e-01, 7.05069704e-01],\n",
       "       [3.27796618e-02, 9.67220338e-01],\n",
       "       [9.41431705e-01, 5.85682954e-02],\n",
       "       [9.93313624e-01, 6.68637646e-03],\n",
       "       [9.71786739e-01, 2.82132614e-02],\n",
       "       [4.59357106e-01, 5.40642894e-01],\n",
       "       [9.99359327e-01, 6.40673388e-04],\n",
       "       [9.98143196e-01, 1.85680392e-03],\n",
       "       [2.07640283e-02, 9.79235972e-01],\n",
       "       [1.94909931e-03, 9.98050901e-01],\n",
       "       [2.24420879e-03, 9.97755791e-01],\n",
       "       [9.44891828e-03, 9.90551082e-01],\n",
       "       [7.63506627e-02, 9.23649337e-01],\n",
       "       [5.35532449e-03, 9.94644676e-01],\n",
       "       [2.96480452e-01, 7.03519548e-01],\n",
       "       [1.70977306e-02, 9.82902269e-01],\n",
       "       [8.96890052e-01, 1.03109948e-01],\n",
       "       [9.99919322e-01, 8.06780465e-05],\n",
       "       [1.33893667e-01, 8.66106333e-01],\n",
       "       [2.67601174e-02, 9.73239883e-01],\n",
       "       [9.98641127e-01, 1.35887285e-03],\n",
       "       [7.39029802e-02, 9.26097020e-01],\n",
       "       [8.08478321e-01, 1.91521679e-01],\n",
       "       [1.18997515e-01, 8.81002485e-01],\n",
       "       [2.18656096e-02, 9.78134390e-01],\n",
       "       [9.67121409e-01, 3.28785906e-02],\n",
       "       [8.86301765e-01, 1.13698235e-01],\n",
       "       [9.64541728e-01, 3.54582722e-02],\n",
       "       [9.94322172e-01, 5.67782762e-03],\n",
       "       [1.20252817e-03, 9.98797472e-01],\n",
       "       [9.87065705e-01, 1.29342952e-02],\n",
       "       [9.99802823e-01, 1.97177183e-04],\n",
       "       [3.01004655e-01, 6.98995345e-01],\n",
       "       [4.57647545e-02, 9.54235245e-01],\n",
       "       [9.45329308e-02, 9.05467069e-01],\n",
       "       [4.86951539e-01, 5.13048461e-01],\n",
       "       [7.86171866e-03, 9.92138281e-01],\n",
       "       [5.97644167e-01, 4.02355833e-01],\n",
       "       [5.94835466e-02, 9.40516453e-01],\n",
       "       [9.05226629e-01, 9.47733715e-02],\n",
       "       [1.17604162e-02, 9.88239584e-01],\n",
       "       [9.98909145e-01, 1.09085544e-03],\n",
       "       [2.64135150e-03, 9.97358648e-01],\n",
       "       [2.65687934e-02, 9.73431207e-01],\n",
       "       [8.58468774e-01, 1.41531226e-01],\n",
       "       [9.86330155e-01, 1.36698454e-02],\n",
       "       [3.68327747e-01, 6.31672253e-01],\n",
       "       [2.48302057e-02, 9.75169794e-01],\n",
       "       [7.36625638e-02, 9.26337436e-01],\n",
       "       [3.74784539e-01, 6.25215461e-01],\n",
       "       [1.62805244e-03, 9.98371948e-01],\n",
       "       [4.89508473e-03, 9.95104915e-01],\n",
       "       [1.00936289e-02, 9.89906371e-01],\n",
       "       [9.50882671e-01, 4.91173287e-02],\n",
       "       [2.82858232e-04, 9.99717142e-01],\n",
       "       [2.21882471e-01, 7.78117529e-01],\n",
       "       [9.60834914e-01, 3.91650864e-02],\n",
       "       [9.96224349e-01, 3.77565141e-03],\n",
       "       [9.98059525e-01, 1.94047535e-03],\n",
       "       [5.27271150e-01, 4.72728850e-01],\n",
       "       [9.67493700e-01, 3.25063000e-02],\n",
       "       [2.50199634e-01, 7.49800366e-01],\n",
       "       [9.96807037e-01, 3.19296275e-03],\n",
       "       [9.79894074e-01, 2.01059264e-02],\n",
       "       [9.89036206e-01, 1.09637940e-02],\n",
       "       [1.61145137e-02, 9.83885486e-01],\n",
       "       [2.42304738e-01, 7.57695262e-01],\n",
       "       [9.97403145e-01, 2.59685463e-03],\n",
       "       [7.28110148e-01, 2.71889852e-01],\n",
       "       [3.13497244e-01, 6.86502756e-01],\n",
       "       [1.89712225e-02, 9.81028778e-01],\n",
       "       [9.78575123e-01, 2.14248766e-02],\n",
       "       [4.68704566e-02, 9.53129543e-01],\n",
       "       [8.10531687e-01, 1.89468313e-01],\n",
       "       [8.72564753e-01, 1.27435247e-01],\n",
       "       [9.41413404e-01, 5.85865957e-02],\n",
       "       [9.93775648e-01, 6.22435208e-03],\n",
       "       [7.61854647e-01, 2.38145353e-01],\n",
       "       [1.72812525e-03, 9.98271875e-01],\n",
       "       [7.07506000e-01, 2.92494000e-01],\n",
       "       [9.13372891e-01, 8.66271094e-02],\n",
       "       [1.72015180e-01, 8.27984820e-01],\n",
       "       [2.71342252e-01, 7.28657748e-01],\n",
       "       [4.74350355e-01, 5.25649645e-01],\n",
       "       [2.51772360e-01, 7.48227640e-01],\n",
       "       [9.46687491e-01, 5.33125087e-02],\n",
       "       [3.40892333e-01, 6.59107667e-01],\n",
       "       [4.52891855e-02, 9.54710814e-01],\n",
       "       [9.39318531e-05, 9.99906068e-01],\n",
       "       [9.97911044e-01, 2.08895616e-03],\n",
       "       [3.68695108e-01, 6.31304892e-01],\n",
       "       [9.97605055e-01, 2.39494512e-03],\n",
       "       [2.06631322e-03, 9.97933687e-01],\n",
       "       [9.91770070e-01, 8.22992951e-03],\n",
       "       [2.58111713e-01, 7.41888287e-01],\n",
       "       [1.25246055e-01, 8.74753945e-01],\n",
       "       [1.68312371e-01, 8.31687629e-01],\n",
       "       [9.51433618e-01, 4.85663823e-02],\n",
       "       [7.48985286e-01, 2.51014714e-01],\n",
       "       [3.49117396e-04, 9.99650883e-01],\n",
       "       [8.07300878e-01, 1.92699122e-01],\n",
       "       [4.79993357e-01, 5.20006643e-01],\n",
       "       [5.95442402e-01, 4.04557598e-01],\n",
       "       [1.04380576e-01, 8.95619424e-01],\n",
       "       [4.19553693e-02, 9.58044631e-01],\n",
       "       [9.54394631e-01, 4.56053688e-02],\n",
       "       [3.46798807e-01, 6.53201193e-01],\n",
       "       [8.22643804e-01, 1.77356196e-01],\n",
       "       [8.09012554e-03, 9.91909874e-01],\n",
       "       [6.34433815e-01, 3.65566185e-01],\n",
       "       [9.97140132e-01, 2.85986785e-03],\n",
       "       [6.20724683e-02, 9.37927532e-01],\n",
       "       [8.58520444e-03, 9.91414796e-01],\n",
       "       [2.50692404e-03, 9.97493076e-01],\n",
       "       [2.55588553e-01, 7.44411447e-01],\n",
       "       [9.96638691e-01, 3.36130904e-03],\n",
       "       [2.92577394e-02, 9.70742261e-01],\n",
       "       [2.22914324e-02, 9.77708568e-01],\n",
       "       [8.61312787e-02, 9.13868721e-01],\n",
       "       [9.92179117e-01, 7.82088314e-03],\n",
       "       [9.97044082e-01, 2.95591767e-03],\n",
       "       [3.59778317e-01, 6.40221683e-01],\n",
       "       [6.21749468e-03, 9.93782505e-01],\n",
       "       [9.49390060e-01, 5.06099400e-02],\n",
       "       [9.95703186e-01, 4.29681359e-03],\n",
       "       [7.86459311e-04, 9.99213541e-01],\n",
       "       [9.83979561e-01, 1.60204390e-02],\n",
       "       [1.18595474e-01, 8.81404526e-01],\n",
       "       [1.23985925e-01, 8.76014075e-01],\n",
       "       [9.65132911e-01, 3.48670892e-02],\n",
       "       [3.60961836e-01, 6.39038164e-01],\n",
       "       [5.09880758e-01, 4.90119242e-01],\n",
       "       [1.95811656e-02, 9.80418834e-01],\n",
       "       [3.75623299e-01, 6.24376701e-01],\n",
       "       [3.13651896e-01, 6.86348104e-01],\n",
       "       [1.55106616e-01, 8.44893384e-01],\n",
       "       [1.24183769e-02, 9.87581623e-01],\n",
       "       [9.94562072e-01, 5.43792793e-03],\n",
       "       [6.14198029e-01, 3.85801971e-01],\n",
       "       [9.99031736e-01, 9.68264423e-04],\n",
       "       [9.86134465e-01, 1.38655353e-02],\n",
       "       [8.56126512e-01, 1.43873488e-01],\n",
       "       [2.13637712e-02, 9.78636229e-01],\n",
       "       [1.67954723e-02, 9.83204528e-01],\n",
       "       [2.17518842e-01, 7.82481158e-01],\n",
       "       [1.28028554e-02, 9.87197145e-01],\n",
       "       [1.27775408e-02, 9.87222459e-01],\n",
       "       [5.44996115e-01, 4.55003885e-01],\n",
       "       [4.21575270e-03, 9.95784247e-01],\n",
       "       [9.91262067e-01, 8.73793255e-03],\n",
       "       [9.98693149e-01, 1.30685092e-03],\n",
       "       [9.93862531e-01, 6.13746910e-03],\n",
       "       [5.39468251e-01, 4.60531749e-01],\n",
       "       [9.67399177e-01, 3.26008235e-02],\n",
       "       [2.57894276e-02, 9.74210572e-01],\n",
       "       [2.42461264e-03, 9.97575387e-01],\n",
       "       [3.95555237e-03, 9.96044448e-01],\n",
       "       [9.99931474e-01, 6.85260446e-05],\n",
       "       [9.16470127e-01, 8.35298727e-02],\n",
       "       [7.83598909e-01, 2.16401091e-01],\n",
       "       [9.94710510e-01, 5.28949010e-03],\n",
       "       [9.99864477e-01, 1.35523347e-04],\n",
       "       [2.37091331e-01, 7.62908669e-01],\n",
       "       [9.16951313e-01, 8.30486865e-02],\n",
       "       [7.61471497e-01, 2.38528503e-01],\n",
       "       [1.16102752e-01, 8.83897248e-01],\n",
       "       [9.52163257e-01, 4.78367433e-02],\n",
       "       [5.34288550e-02, 9.46571145e-01],\n",
       "       [1.08324403e-01, 8.91675597e-01],\n",
       "       [2.79411853e-03, 9.97205881e-01],\n",
       "       [9.84162922e-01, 1.58370781e-02],\n",
       "       [9.44231607e-01, 5.57683926e-02],\n",
       "       [6.16266311e-02, 9.38373369e-01],\n",
       "       [8.80314694e-01, 1.19685306e-01],\n",
       "       [8.74574730e-01, 1.25425270e-01],\n",
       "       [1.94416121e-02, 9.80558388e-01],\n",
       "       [1.39945182e-03, 9.98600548e-01],\n",
       "       [3.78021470e-01, 6.21978530e-01],\n",
       "       [2.69594781e-01, 7.30405219e-01],\n",
       "       [3.56974502e-02, 9.64302550e-01],\n",
       "       [9.87569825e-01, 1.24301753e-02],\n",
       "       [4.83007418e-01, 5.16992582e-01],\n",
       "       [1.76535047e-04, 9.99823465e-01],\n",
       "       [2.61437388e-01, 7.38562612e-01],\n",
       "       [9.85877341e-01, 1.41226594e-02],\n",
       "       [8.04808517e-01, 1.95191483e-01],\n",
       "       [8.79637412e-01, 1.20362588e-01],\n",
       "       [9.99115317e-01, 8.84682930e-04],\n",
       "       [8.75868215e-01, 1.24131785e-01],\n",
       "       [2.09360741e-03, 9.97906393e-01],\n",
       "       [9.99911072e-01, 8.89282486e-05],\n",
       "       [9.90108235e-01, 9.89176528e-03],\n",
       "       [2.98561411e-01, 7.01438589e-01],\n",
       "       [5.35926922e-02, 9.46407308e-01],\n",
       "       [7.31738232e-01, 2.68261768e-01],\n",
       "       [9.87104001e-01, 1.28959995e-02],\n",
       "       [9.53136322e-01, 4.68636783e-02],\n",
       "       [1.86783343e-03, 9.98132167e-01],\n",
       "       [6.34983034e-02, 9.36501697e-01],\n",
       "       [9.89517537e-01, 1.04824633e-02],\n",
       "       [9.97362399e-01, 2.63760116e-03],\n",
       "       [8.74836737e-01, 1.25163263e-01],\n",
       "       [1.15318085e-01, 8.84681915e-01],\n",
       "       [1.11179895e-02, 9.88882010e-01],\n",
       "       [1.33471693e-02, 9.86652831e-01],\n",
       "       [7.54421480e-04, 9.99245579e-01],\n",
       "       [9.81844650e-01, 1.81553502e-02],\n",
       "       [9.54226674e-01, 4.57733259e-02],\n",
       "       [4.42479621e-03, 9.95575204e-01],\n",
       "       [2.60681601e-02, 9.73931840e-01],\n",
       "       [8.27565222e-01, 1.72434778e-01],\n",
       "       [1.22284725e-02, 9.87771527e-01],\n",
       "       [1.72504141e-01, 8.27495859e-01],\n",
       "       [3.77308840e-01, 6.22691160e-01],\n",
       "       [4.61401317e-02, 9.53859868e-01],\n",
       "       [8.93566253e-02, 9.10643375e-01],\n",
       "       [9.88235467e-01, 1.17645327e-02],\n",
       "       [9.90371085e-01, 9.62891525e-03],\n",
       "       [2.08487388e-04, 9.99791513e-01],\n",
       "       [7.52954700e-03, 9.92470453e-01],\n",
       "       [9.09178500e-01, 9.08215004e-02],\n",
       "       [2.01335454e-01, 7.98664546e-01],\n",
       "       [4.08970849e-01, 5.91029151e-01],\n",
       "       [9.95288772e-01, 4.71122818e-03],\n",
       "       [7.24720689e-01, 2.75279311e-01],\n",
       "       [9.98982904e-02, 9.00101710e-01],\n",
       "       [9.47573556e-01, 5.24264440e-02],\n",
       "       [9.88435886e-01, 1.15641139e-02],\n",
       "       [9.98003691e-01, 1.99630897e-03],\n",
       "       [9.99649242e-01, 3.50758266e-04],\n",
       "       [1.81019311e-02, 9.81898069e-01],\n",
       "       [1.52717902e-01, 8.47282098e-01],\n",
       "       [9.53478936e-02, 9.04652106e-01],\n",
       "       [8.99345661e-01, 1.00654339e-01],\n",
       "       [4.93177866e-04, 9.99506822e-01],\n",
       "       [5.33634926e-03, 9.94663651e-01],\n",
       "       [2.54530549e-03, 9.97454695e-01],\n",
       "       [2.53189712e-02, 9.74681029e-01],\n",
       "       [6.23516408e-01, 3.76483592e-01],\n",
       "       [1.90947483e-01, 8.09052517e-01],\n",
       "       [7.19470613e-02, 9.28052939e-01],\n",
       "       [4.92233032e-03, 9.95077670e-01],\n",
       "       [7.93191213e-02, 9.20680879e-01],\n",
       "       [7.99761034e-01, 2.00238966e-01],\n",
       "       [9.99954466e-01, 4.55339485e-05],\n",
       "       [9.76846686e-01, 2.31533145e-02],\n",
       "       [9.99551626e-01, 4.48374211e-04],\n",
       "       [9.84435646e-01, 1.55643539e-02],\n",
       "       [9.66259530e-01, 3.37404703e-02],\n",
       "       [9.53234666e-01, 4.67653343e-02],\n",
       "       [8.74622630e-01, 1.25377370e-01],\n",
       "       [9.62696106e-01, 3.73038944e-02],\n",
       "       [9.91834742e-01, 8.16525811e-03],\n",
       "       [9.96794173e-01, 3.20582663e-03],\n",
       "       [7.01872485e-01, 2.98127515e-01],\n",
       "       [3.64983948e-04, 9.99635016e-01],\n",
       "       [8.96483598e-02, 9.10351640e-01],\n",
       "       [9.95048862e-01, 4.95113817e-03],\n",
       "       [9.47528926e-01, 5.24710740e-02],\n",
       "       [8.52016377e-02, 9.14798362e-01],\n",
       "       [9.98483794e-01, 1.51620559e-03],\n",
       "       [9.90278137e-01, 9.72186340e-03],\n",
       "       [9.17833489e-01, 8.21665105e-02],\n",
       "       [9.15186604e-01, 8.48133961e-02],\n",
       "       [9.59955373e-01, 4.00446275e-02],\n",
       "       [6.96988200e-02, 9.30301180e-01],\n",
       "       [9.94118543e-01, 5.88145705e-03],\n",
       "       [6.72042637e-02, 9.32795736e-01],\n",
       "       [2.63605421e-03, 9.97363946e-01],\n",
       "       [4.97423035e-02, 9.50257697e-01],\n",
       "       [8.03555357e-04, 9.99196445e-01],\n",
       "       [3.50915941e-02, 9.64908406e-01],\n",
       "       [9.94060124e-01, 5.93987573e-03],\n",
       "       [3.71759727e-02, 9.62824027e-01],\n",
       "       [7.91607475e-03, 9.92083925e-01],\n",
       "       [9.27396003e-01, 7.26039967e-02],\n",
       "       [1.19630557e-02, 9.88036944e-01],\n",
       "       [1.81186738e-01, 8.18813262e-01],\n",
       "       [7.23934668e-01, 2.76065332e-01],\n",
       "       [9.92908455e-01, 7.09154508e-03],\n",
       "       [6.12985195e-04, 9.99387015e-01],\n",
       "       [6.79216412e-03, 9.93207836e-01],\n",
       "       [9.97867749e-01, 2.13225104e-03],\n",
       "       [9.97046081e-01, 2.95391852e-03],\n",
       "       [8.52195307e-01, 1.47804693e-01],\n",
       "       [2.94482783e-01, 7.05517217e-01],\n",
       "       [9.98191408e-01, 1.80859236e-03],\n",
       "       [9.68314176e-01, 3.16858244e-02],\n",
       "       [2.91655525e-01, 7.08344475e-01],\n",
       "       [7.78820913e-02, 9.22117909e-01],\n",
       "       [1.27399028e-01, 8.72600972e-01],\n",
       "       [5.17598134e-01, 4.82401866e-01],\n",
       "       [1.39124976e-01, 8.60875024e-01],\n",
       "       [9.56365367e-01, 4.36346326e-02],\n",
       "       [2.22437171e-02, 9.77756283e-01],\n",
       "       [1.96194476e-01, 8.03805524e-01],\n",
       "       [8.61832357e-01, 1.38167643e-01],\n",
       "       [9.84220337e-01, 1.57796629e-02],\n",
       "       [9.67537752e-01, 3.24622482e-02],\n",
       "       [6.98490073e-03, 9.93015099e-01],\n",
       "       [6.17975521e-01, 3.82024479e-01],\n",
       "       [8.40685437e-01, 1.59314563e-01],\n",
       "       [9.29377180e-03, 9.90706228e-01],\n",
       "       [9.63231215e-01, 3.67687847e-02],\n",
       "       [9.25800419e-01, 7.41995811e-02],\n",
       "       [3.65335334e-02, 9.63466467e-01],\n",
       "       [7.87080776e-01, 2.12919224e-01],\n",
       "       [9.96845119e-01, 3.15488073e-03],\n",
       "       [8.27762197e-01, 1.72237803e-01],\n",
       "       [9.38748777e-01, 6.12512227e-02],\n",
       "       [9.82302659e-01, 1.76973411e-02],\n",
       "       [9.13700501e-01, 8.62994993e-02],\n",
       "       [6.95504906e-01, 3.04495094e-01]])"
      ]
     },
     "execution_count": 45,
     "metadata": {},
     "output_type": "execute_result"
    }
   ],
   "source": [
    "y_proba = classifier.predict_proba(X_train)\n",
    "y_proba"
   ]
  },
  {
   "cell_type": "code",
   "execution_count": 46,
   "metadata": {},
   "outputs": [
    {
     "data": {
      "text/plain": [
       "array([1, 1, 1, 1, 1, 0, 1, 1, 1, 0, 1, 0, 0, 0, 1, 0, 1, 0, 1, 0, 0, 0,\n",
       "       0, 0, 0, 1, 1, 0, 0, 1, 0, 1, 0, 0, 0, 0, 0, 1, 0, 1, 1, 0, 1, 1,\n",
       "       1, 0, 1, 1, 1, 1, 1, 0, 0, 0, 0, 1, 1, 0, 1, 1, 0, 0, 1, 1, 1, 1,\n",
       "       1, 1, 1, 1, 0, 1, 0, 1, 0, 0, 0, 0, 0, 0, 1, 0, 0, 1, 0, 1, 1, 1,\n",
       "       0, 0, 0, 1, 0, 0, 1, 1, 1, 1, 1, 1, 1, 1, 0, 0, 1, 1, 0, 1, 0, 1,\n",
       "       1, 0, 0, 0, 0, 1, 0, 0, 1, 1, 1, 1, 1, 0, 1, 0, 1, 0, 1, 1, 0, 0,\n",
       "       1, 1, 1, 1, 1, 1, 1, 0, 1, 1, 0, 0, 0, 0, 0, 1, 0, 0, 0, 1, 1, 0,\n",
       "       0, 1, 1, 0, 1, 0, 0, 0, 0, 0, 1, 0, 0, 1, 1, 1, 1, 0, 1, 1, 1, 0,\n",
       "       1, 0, 1, 0, 1, 1, 1, 0, 0, 1, 0, 1, 0, 1, 1, 0, 1, 0, 1, 0, 0, 1,\n",
       "       1, 1, 1, 0, 1, 1, 1, 0, 0, 1, 1, 0, 0, 1, 0, 1, 1, 0, 1, 0, 1, 1,\n",
       "       1, 1, 1, 0, 0, 0, 0, 0, 1, 1, 1, 1, 1, 0, 1, 0, 0, 0, 0, 0, 1, 1,\n",
       "       1, 0, 0, 0, 0, 0, 1, 0, 0, 1, 0, 1, 1, 1, 0, 0, 1, 0, 0, 1, 1, 1,\n",
       "       1, 1, 0, 1, 1, 1, 0, 0, 0, 0, 0, 1, 0, 0, 1, 1, 0, 0, 0, 1, 1, 0,\n",
       "       0, 0, 1, 1, 1, 1, 0, 0, 1, 1, 0, 1, 1, 1, 1, 1, 0, 0, 1, 1, 0, 1,\n",
       "       1, 0, 0, 1, 0, 0, 0, 0, 1, 1, 1, 0, 1, 1, 1, 1, 0, 1, 1, 1, 1, 0,\n",
       "       0, 0, 0, 0, 0, 0, 0, 0, 0, 0, 0, 1, 1, 0, 0, 1, 0, 0, 0, 0, 0, 1,\n",
       "       0, 1, 1, 1, 1, 1, 0, 1, 1, 0, 1, 1, 0, 0, 1, 1, 0, 0, 0, 1, 0, 0,\n",
       "       1, 1, 1, 0, 1, 0, 1, 1, 0, 0, 0, 1, 0, 0, 1, 0, 0, 1, 0, 0, 0, 0,\n",
       "       0, 0, 0], dtype=int64)"
      ]
     },
     "execution_count": 46,
     "metadata": {},
     "output_type": "execute_result"
    }
   ],
   "source": [
    "y_predict_train = classifier.predict(X_train)\n",
    "y_predict_train"
   ]
  },
  {
   "cell_type": "code",
   "execution_count": 47,
   "metadata": {},
   "outputs": [
    {
     "data": {
      "text/plain": [
       "array([1, 1, 1, 0, 1, 0, 1, 1, 0, 0, 1, 0, 0, 1, 0, 0, 1, 1, 1, 0, 0, 1,\n",
       "       0, 0, 0, 1, 1, 0, 0, 1, 0, 1, 0, 0, 0, 0, 0, 0, 0, 0, 1, 0, 0, 1,\n",
       "       1, 0, 1, 1, 1, 1, 1, 0, 0, 0, 0, 1, 1, 0, 1, 1, 0, 0, 1, 1, 1, 1,\n",
       "       1, 1, 1, 1, 0, 1, 0, 1, 0, 0, 0, 0, 0, 0, 1, 0, 0, 1, 0, 1, 1, 1,\n",
       "       0, 0, 0, 0, 0, 0, 1, 1, 1, 1, 1, 1, 1, 1, 0, 0, 0, 1, 0, 1, 0, 1,\n",
       "       1, 0, 0, 0, 0, 1, 0, 0, 1, 1, 1, 1, 1, 1, 1, 0, 1, 0, 1, 1, 0, 0,\n",
       "       1, 1, 1, 1, 1, 1, 1, 1, 1, 1, 0, 0, 0, 0, 0, 1, 0, 0, 0, 1, 0, 0,\n",
       "       0, 1, 1, 0, 1, 0, 0, 0, 0, 0, 1, 0, 0, 1, 1, 1, 1, 0, 1, 1, 1, 0,\n",
       "       1, 0, 1, 0, 1, 1, 1, 0, 0, 1, 0, 1, 0, 1, 1, 1, 1, 0, 1, 1, 0, 1,\n",
       "       1, 1, 1, 0, 1, 1, 1, 0, 0, 1, 1, 0, 0, 1, 0, 1, 1, 0, 1, 1, 1, 0,\n",
       "       1, 1, 1, 0, 0, 0, 0, 0, 1, 1, 1, 1, 1, 0, 1, 0, 0, 0, 0, 0, 1, 1,\n",
       "       1, 0, 0, 0, 0, 0, 1, 0, 0, 1, 0, 1, 1, 1, 0, 0, 1, 0, 0, 1, 1, 0,\n",
       "       1, 1, 0, 1, 1, 1, 0, 0, 0, 0, 0, 1, 0, 0, 0, 1, 0, 0, 0, 1, 1, 0,\n",
       "       0, 0, 0, 1, 1, 1, 0, 0, 1, 1, 0, 1, 1, 1, 1, 1, 0, 0, 1, 1, 0, 1,\n",
       "       1, 0, 0, 1, 0, 0, 0, 0, 1, 0, 0, 0, 1, 1, 1, 1, 1, 1, 1, 1, 1, 0,\n",
       "       0, 0, 0, 0, 0, 0, 0, 0, 1, 0, 0, 1, 1, 0, 0, 1, 0, 0, 0, 0, 0, 1,\n",
       "       0, 1, 1, 1, 1, 1, 0, 1, 1, 0, 1, 1, 0, 0, 1, 1, 0, 0, 0, 0, 0, 0,\n",
       "       0, 1, 1, 1, 1, 0, 1, 1, 1, 0, 0, 1, 0, 0, 1, 0, 0, 1, 0, 0, 0, 0,\n",
       "       0, 0, 1], dtype=int64)"
      ]
     },
     "execution_count": 47,
     "metadata": {},
     "output_type": "execute_result"
    }
   ],
   "source": [
    "y_train"
   ]
  },
  {
   "cell_type": "code",
   "execution_count": 49,
   "metadata": {},
   "outputs": [
    {
     "data": {
      "text/plain": [
       "array([1, 0, 0, 0, 1, 0, 0, 0, 0, 0, 0, 1, 1, 1, 1, 0, 0, 0, 1, 1, 1, 0,\n",
       "       1, 1, 0, 1, 0, 0, 0, 0, 1, 1, 0, 0, 0, 1, 0, 1, 1, 0, 1, 0, 0, 0,\n",
       "       0, 1, 0, 1, 0, 0, 1, 1, 1, 1, 1, 0, 0, 1, 1, 1, 0, 0, 1, 1, 0, 1,\n",
       "       1, 0, 1, 1, 0, 1, 0, 0, 0, 0, 0, 0, 1, 1, 0, 0, 0, 0, 0, 1, 1, 1,\n",
       "       1, 1, 1, 0, 1, 1, 0, 1, 0, 0, 1, 1], dtype=int64)"
      ]
     },
     "execution_count": 49,
     "metadata": {},
     "output_type": "execute_result"
    }
   ],
   "source": [
    "y_predict_test = classifier.predict(X_test)\n",
    "y_predict_test"
   ]
  },
  {
   "cell_type": "code",
   "execution_count": 50,
   "metadata": {},
   "outputs": [
    {
     "data": {
      "text/plain": [
       "<AxesSubplot:>"
      ]
     },
     "execution_count": 50,
     "metadata": {},
     "output_type": "execute_result"
    },
    {
     "data": {
      "image/png": "[encoded data removed]",
      "text/plain": [
       "<Figure size 432x288 with 2 Axes>"
      ]
     },
     "metadata": {
      "needs_background": "light"
     },
     "output_type": "display_data"
    }
   ],
   "source": [
    "from sklearn.metrics import confusion_matrix\n",
    "cm = confusion_matrix(y_test, y_predict_test)\n",
    "sns.heatmap(cm, annot=True, fmt=\"d\")"
   ]
  },
  {
   "cell_type": "code",
   "execution_count": 52,
   "metadata": {},
   "outputs": [
    {
     "name": "stdout",
     "output_type": "stream",
     "text": [
      "              precision    recall  f1-score   support\n",
      "\n",
      "           0       0.83      0.90      0.86        48\n",
      "           1       0.90      0.83      0.86        52\n",
      "\n",
      "    accuracy                           0.86       100\n",
      "   macro avg       0.86      0.86      0.86       100\n",
      "weighted avg       0.86      0.86      0.86       100\n",
      "\n"
     ]
    }
   ],
   "source": [
    "from sklearn.metrics import classification_report\n",
    "print(classification_report(y_test, y_predict_test))"
   ]
  },
  {
   "cell_type": "markdown",
   "metadata": {},
   "source": [
    "# Step #6: Visualizing Training and Testing Datasets"
   ]
  },
  {
   "cell_type": "code",
   "execution_count": 54,
   "metadata": {},
   "outputs": [],
   "source": [
    "# Visualising the Training set results\n",
    "from matplotlib.colors import ListedColormap\n",
    "X_set, y_set = X_train, y_train\n",
    "\n",
    "# Create a meshgrid ranging from the minimum to maximum value for both features\n",
    "\n",
    "X1, X2 = np.meshgrid(np.arange(start = X_set[:, 0].min() - 1, stop = X_set[:, 0].max() + 1, step = 0.01),\n",
    "                     np.arange(start = X_set[:, 1].min() - 1, stop = X_set[:, 1].max() + 1, step = 0.01))\n"
   ]
  },
  {
   "cell_type": "code",
   "execution_count": 55,
   "metadata": {},
   "outputs": [
    {
     "data": {
      "text/plain": [
       "(399,)"
      ]
     },
     "execution_count": 55,
     "metadata": {},
     "output_type": "execute_result"
    }
   ],
   "source": [
    "y_train.shape"
   ]
  },
  {
   "cell_type": "code",
   "execution_count": 56,
   "metadata": {},
   "outputs": [
    {
     "data": {
      "text/plain": [
       "(399, 2)"
      ]
     },
     "execution_count": 56,
     "metadata": {},
     "output_type": "execute_result"
    }
   ],
   "source": [
    "X_train.shape"
   ]
  },
  {
   "cell_type": "code",
   "execution_count": 57,
   "metadata": {},
   "outputs": [
    {
     "data": {
      "text/plain": [
       "(715, 740)"
      ]
     },
     "execution_count": 57,
     "metadata": {},
     "output_type": "execute_result"
    }
   ],
   "source": [
    "X1.shape"
   ]
  },
  {
   "cell_type": "code",
   "execution_count": 58,
   "metadata": {},
   "outputs": [
    {
     "data": {
      "text/plain": [
       "(-3.787379255660188, 3.3526207443396596)"
      ]
     },
     "execution_count": 58,
     "metadata": {},
     "output_type": "execute_result"
    },
    {
     "data": {
      "image/png": "[encoded data removed]",
      "text/plain": [
       "<Figure size 432x288 with 1 Axes>"
      ]
     },
     "metadata": {
      "needs_background": "light"
     },
     "output_type": "display_data"
    }
   ],
   "source": [
    "# plot the boundary using the trained classifier\n",
    "# Run the classifier to predict the outcome on all pixels with resolution of 0.01\n",
    "# Colouring the pixels with 0 or 1\n",
    "# If classified as 0 it will be magenta, and if it is classified as 1 it will be shown in blue \n",
    "plt.contourf(X1, X2, classifier.predict(np.array([X1.ravel(), X2.ravel()]).T).reshape(X1.shape),\n",
    "             alpha = 0.75, cmap = ListedColormap(('magenta', 'blue')))\n",
    "plt.xlim(X1.min(), X1.max())\n",
    "plt.ylim(X2.min(), X2.max())"
   ]
  },
  {
   "cell_type": "code",
   "execution_count": 59,
   "metadata": {},
   "outputs": [
    {
     "name": "stderr",
     "output_type": "stream",
     "text": [
      "*c* argument looks like a single numeric RGB or RGBA sequence, which should be avoided as value-mapping will have precedence in case its length matches with *x* & *y*.  Please use the *color* keyword-argument or provide a 2-D array with a single row if you intend to specify the same RGB or RGBA value for all points.\n",
      "*c* argument looks like a single numeric RGB or RGBA sequence, which should be avoided as value-mapping will have precedence in case its length matches with *x* & *y*.  Please use the *color* keyword-argument or provide a 2-D array with a single row if you intend to specify the same RGB or RGBA value for all points.\n"
     ]
    },
    {
     "data": {
      "image/png": "[encoded data removed]",
      "text/plain": [
       "<Figure size 432x288 with 1 Axes>"
      ]
     },
     "metadata": {
      "needs_background": "light"
     },
     "output_type": "display_data"
    }
   ],
   "source": [
    "# plot all the actual training points\n",
    "for i, j in enumerate(np.unique(y_set)):\n",
    "    plt.scatter(X_set[y_set == j, 0], X_set[y_set == j, 1],\n",
    "                c = ListedColormap(('magenta', 'blue'))(i), label = j)\n",
    "    \n",
    "plt.title('Facebook Ad: Customer Click Prediction (Training set)')\n",
    "plt.xlabel('Time Spent on Site')\n",
    "plt.ylabel('Estimated Salary')\n",
    "plt.legend()\n",
    "plt.show()"
   ]
  },
  {
   "cell_type": "code",
   "execution_count": 60,
   "metadata": {
    "scrolled": true
   },
   "outputs": [
    {
     "name": "stderr",
     "output_type": "stream",
     "text": [
      "*c* argument looks like a single numeric RGB or RGBA sequence, which should be avoided as value-mapping will have precedence in case its length matches with *x* & *y*.  Please use the *color* keyword-argument or provide a 2-D array with a single row if you intend to specify the same RGB or RGBA value for all points.\n",
      "*c* argument looks like a single numeric RGB or RGBA sequence, which should be avoided as value-mapping will have precedence in case its length matches with *x* & *y*.  Please use the *color* keyword-argument or provide a 2-D array with a single row if you intend to specify the same RGB or RGBA value for all points.\n"
     ]
    },
    {
     "data": {
      "image/png": "[encoded data removed]",
      "text/plain": [
       "<Figure size 432x288 with 1 Axes>"
      ]
     },
     "metadata": {
      "needs_background": "light"
     },
     "output_type": "display_data"
    }
   ],
   "source": [
    "# Visualising the Training set results\n",
    "from matplotlib.colors import ListedColormap\n",
    "X_set, y_set = X_train, y_train\n",
    "X1, X2 = np.meshgrid(np.arange(start = X_set[:, 0].min() - 1, stop = X_set[:, 0].max() + 1, step = 0.01),\n",
    "                     np.arange(start = X_set[:, 1].min() - 1, stop = X_set[:, 1].max() + 1, step = 0.01))\n",
    "plt.contourf(X1, X2, classifier.predict(np.array([X1.ravel(), X2.ravel()]).T).reshape(X1.shape),\n",
    "             alpha = 0.75, cmap = ListedColormap(('magenta', 'blue')))\n",
    "plt.xlim(X1.min(), X1.max())\n",
    "plt.ylim(X2.min(), X2.max())\n",
    "for i, j in enumerate(np.unique(y_set)):\n",
    "    plt.scatter(X_set[y_set == j, 0], X_set[y_set == j, 1],\n",
    "                c = ListedColormap(('magenta', 'blue'))(i), label = j)\n",
    "plt.title('Facebook Ad: Customer Click Prediction (Training set)')\n",
    "plt.xlabel('Time Spent on Site')\n",
    "plt.ylabel('Estimated Salary')\n",
    "plt.legend()\n",
    "plt.show()"
   ]
  },
  {
   "cell_type": "code",
   "execution_count": 61,
   "metadata": {},
   "outputs": [
    {
     "name": "stderr",
     "output_type": "stream",
     "text": [
      "*c* argument looks like a single numeric RGB or RGBA sequence, which should be avoided as value-mapping will have precedence in case its length matches with *x* & *y*.  Please use the *color* keyword-argument or provide a 2-D array with a single row if you intend to specify the same RGB or RGBA value for all points.\n",
      "*c* argument looks like a single numeric RGB or RGBA sequence, which should be avoided as value-mapping will have precedence in case its length matches with *x* & *y*.  Please use the *color* keyword-argument or provide a 2-D array with a single row if you intend to specify the same RGB or RGBA value for all points.\n"
     ]
    },
    {
     "data": {
      "image/png": "[encoded data removed]",
      "text/plain": [
       "<Figure size 432x288 with 1 Axes>"
      ]
     },
     "metadata": {
      "needs_background": "light"
     },
     "output_type": "display_data"
    }
   ],
   "source": [
    "# Visualising the Training set results\n",
    "from matplotlib.colors import ListedColormap\n",
    "X_set, y_set = X_test, y_test\n",
    "X1, X2 = np.meshgrid(np.arange(start = X_set[:, 0].min() - 1, stop = X_set[:, 0].max() + 1, step = 0.01),\n",
    "                     np.arange(start = X_set[:, 1].min() - 1, stop = X_set[:, 1].max() + 1, step = 0.01))\n",
    "plt.contourf(X1, X2, classifier.predict(np.array([X1.ravel(), X2.ravel()]).T).reshape(X1.shape),\n",
    "             alpha = 0.75, cmap = ListedColormap(('magenta', 'blue')))\n",
    "plt.xlim(X1.min(), X1.max())\n",
    "plt.ylim(X2.min(), X2.max())\n",
    "for i, j in enumerate(np.unique(y_set)):\n",
    "    plt.scatter(X_set[y_set == j, 0], X_set[y_set == j, 1],\n",
    "                c = ListedColormap(('magenta', 'blue'))(i), label = j)\n",
    "plt.title('Facebook Ad: Customer Click Prediction (Testing set)')\n",
    "plt.xlabel('Time Spent on Site')\n",
    "plt.ylabel('Estimated Salary')\n",
    "plt.legend()\n",
    "plt.show()"
   ]
  },
  {
   "cell_type": "code",
   "execution_count": null,
   "metadata": {},
   "outputs": [],
   "source": []
  }
 ],
 "metadata": {
  "kernelspec": {
   "display_name": "Python 3",
   "language": "python",
   "name": "python3"
  },
  "language_info": {
   "codemirror_mode": {
    "name": "ipython",
    "version": 3
   },
   "file_extension": ".py",
   "mimetype": "text/x-python",
   "name": "python",
   "nbconvert_exporter": "python",
   "pygments_lexer": "ipython3",
   "version": "3.7.8"
  }
 },
 "nbformat": 4,
 "nbformat_minor": 4
}
